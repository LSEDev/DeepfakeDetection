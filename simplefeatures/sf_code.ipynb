{
 "cells": [
  {
   "cell_type": "code",
   "execution_count": 2,
   "metadata": {},
   "outputs": [
    {
     "name": "stdout",
     "output_type": "stream",
     "text": [
      "Tensorflow version: 2.2.0-dlenv\n"
     ]
    }
   ],
   "source": [
    "# This cell has the latest set up for AI Platform\n",
    "\n",
    "from __future__ import print_function\n",
    "import numpy as np\n",
    "import psutil\n",
    "import pandas as pd\n",
    "import matplotlib.pyplot as plt\n",
    "import seaborn as sns\n",
    "import random\n",
    "import tensorflow as tf\n",
    "#from tensorflow.keras import Model, Input\n",
    "#from tensorflow.keras.preprocessing.image import ImageDataGenerator\n",
    "#from tensorflow.keras.models import Sequential, load_model\n",
    "#from tensorflow.keras.layers import Dense, Dropout, Activation, Flatten, GlobalAveragePooling2D\n",
    "#from tensorflow.keras.layers import Conv2D, MaxPooling2D\n",
    "#from tensorflow.keras.layers import BatchNormalization\n",
    "#from tensorflow.keras.preprocessing.image import load_img\n",
    "#from tensorflow.keras.preprocessing.image import img_to_array\n",
    "#from tensorflow.keras.preprocessing.image import array_to_img\n",
    "#from tensorflow.keras.callbacks import *\n",
    "\n",
    "import os\n",
    "import glob\n",
    "import cv2\n",
    "from io import BytesIO\n",
    "from PIL import Image\n",
    "from numpy import expand_dims\n",
    "import warnings\n",
    "import logging\n",
    "from IPython.display import clear_output\n",
    "from collections import Counter\n",
    "import VisualisationTools as plotting\n",
    "import pickle\n",
    "\n",
    "#warnings.filterwarnings(\"ignore\")\n",
    "logger = logging.getLogger()\n",
    "logger.setLevel(100)\n",
    "plot_losses = plotting.PlotLearning()\n",
    "\n",
    "print(\"Tensorflow version:\", tf.__version__)"
   ]
  },
  {
   "cell_type": "code",
   "execution_count": 3,
   "metadata": {},
   "outputs": [],
   "source": [
    "#input_shape = (32,32,3)\n",
    "#inputs = tf.keras.Input(shape=input_shape)\n",
    "#print('hello')\n",
    "\n",
    "#t_dense1 = tf.keras.layers.Dense(1024, activation='relu')(inputs)\n",
    "#t_dense2 = tf.keras.layers.Dense(256, activation='relu')(t_dense1)\n",
    "#t_dense3 = tf.keras.layers.Dense(128, activation='relu')(t_dense2)\n",
    "#t_do = tf.keras.layers.Dropout(0.3)(t_dense3)\n",
    "#predictions = tf.keras.layers.Dense(2, activation= 'softmax')(t_do)\n",
    "#model = tf.keras.Model(inputs=inputs, outputs=predictions, name = 'simple_model')\n",
    "#\n",
    "#opt = tf.keras.optimizers.Adam(learning_rate= 0.0002, decay=1e-6)\n",
    "\n",
    "#model.compile(loss='categorical_crossentropy',\n",
    "#              optimizer=opt,\n",
    "#              metrics=['accuracy'])\n",
    "\n",
    "#print(model.summary())"
   ]
  },
  {
   "cell_type": "code",
   "execution_count": null,
   "metadata": {},
   "outputs": [],
   "source": [
    "model = tf.keras.Sequential(name=\"my_sequential\")\n",
    "print('hello')\n",
    "#model.add(Input(shape = (32,32,3)))\n",
    "model.add(tf.keras.layers.Dense(1024, activation=\"relu\", name=\"layer1\"))\n",
    "model.add(tf.keras.layers.Dense(256, activation=\"relu\", name=\"layer2\"))\n",
    "model.add(tf.keras.layers.Dense(128, name=\"layer3\"))\n",
    "model.add(tf.keras.layers.Dropout(0.3))\n",
    "model.add(tf.keras.layers.Dense(2, activation= 'softmax'))\n",
    "\n",
    "opt = tf.keras.optimizers.Adam(learning_rate= 0.0002, decay=1e-6)\n",
    "\n",
    "model.compile(loss='categorical_crossentropy',\n",
    "              optimizer=opt,\n",
    "              metrics=['accuracy'])"
   ]
  },
  {
   "cell_type": "code",
   "execution_count": 1,
   "metadata": {},
   "outputs": [
    {
     "ename": "NameError",
     "evalue": "name 'model' is not defined",
     "output_type": "error",
     "traceback": [
      "\u001b[0;31m---------------------------------------------------------------------------\u001b[0m",
      "\u001b[0;31mNameError\u001b[0m                                 Traceback (most recent call last)",
      "\u001b[0;32m<ipython-input-1-5f15418b3570>\u001b[0m in \u001b[0;36m<module>\u001b[0;34m\u001b[0m\n\u001b[0;32m----> 1\u001b[0;31m \u001b[0mmodel\u001b[0m\u001b[0;34m.\u001b[0m\u001b[0msummary\u001b[0m\u001b[0;34m(\u001b[0m\u001b[0;34m)\u001b[0m\u001b[0;34m\u001b[0m\u001b[0;34m\u001b[0m\u001b[0m\n\u001b[0m",
      "\u001b[0;31mNameError\u001b[0m: name 'model' is not defined"
     ]
    }
   ],
   "source": [
    "model.summary()"
   ]
  },
  {
   "cell_type": "code",
   "execution_count": null,
   "metadata": {},
   "outputs": [],
   "source": []
  }
 ],
 "metadata": {
  "environment": {
   "name": "tf2-2-2-gpu.2-2.m50",
   "type": "gcloud",
   "uri": "gcr.io/deeplearning-platform-release/tf2-2-2-gpu.2-2:m50"
  },
  "kernelspec": {
   "display_name": "Python 3",
   "language": "python",
   "name": "python3"
  },
  "language_info": {
   "codemirror_mode": {
    "name": "ipython",
    "version": 3
   },
   "file_extension": ".py",
   "mimetype": "text/x-python",
   "name": "python",
   "nbconvert_exporter": "python",
   "pygments_lexer": "ipython3",
   "version": "3.7.6"
  }
 },
 "nbformat": 4,
 "nbformat_minor": 4
}
