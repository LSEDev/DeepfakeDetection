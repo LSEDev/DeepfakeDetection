{
 "cells": [
  {
   "cell_type": "code",
   "execution_count": 2,
   "metadata": {},
   "outputs": [],
   "source": [
    "import cv2\n",
    "import os\n",
    "import numpy as np\n",
    "import glob\n",
    "import pandas as pd\n",
    "import re"
   ]
  },
  {
   "cell_type": "code",
   "execution_count": 3,
   "metadata": {},
   "outputs": [],
   "source": [
    "def read_names(methods):\n",
    "\n",
    "    for method in methods:\n",
    "        folder_a =  'faceforensics_data/forensics_split/' + method + '/authentic'\n",
    "        folder_f =  'faceforensics_data/forensics_split/' + method + '/fake'\n",
    "        \n",
    "        images_a = glob.glob(folder_a + \"/*.png\")\n",
    "        images_f = glob.glob(folder_f + \"/*.png\")\n",
    "        \n",
    "\n",
    "    return images_a + images_f\n",
    "\n",
    "images = read_names(['validation', 'train'])"
   ]
  },
  {
   "cell_type": "code",
   "execution_count": 4,
   "metadata": {},
   "outputs": [
    {
     "name": "stdout",
     "output_type": "stream",
     "text": [
      "113928\n",
      "authentic/Original_749_0675.png\n"
     ]
    }
   ],
   "source": [
    "images = [el.replace('train/', '').replace('validation/', '')\n",
    "          .replace('faceforensics_data/forensics_split/','') for el in images]\n",
    "\n",
    "print(len(images))\n",
    "print(images[0])"
   ]
  },
  {
   "cell_type": "code",
   "execution_count": 5,
   "metadata": {},
   "outputs": [],
   "source": [
    "def build_dataframe(filenames):\n",
    "    index = range(len(filenames))\n",
    "    df = pd.DataFrame(index = index, columns = ['method', 'video', 'image', 'dummy'])\n",
    "    df = df.fillna(0)\n",
    "    methods = [el[el.find('/')+1: el.find('_')] for el in filenames]\n",
    "    video_numbers = [re.search(\"_(.*?)\\_\", el).group(1) for el in filenames]\n",
    "    image_numbers = [el[el.find('_')+1: el.find('.')][4:] for el in filenames]\n",
    "    true_labels = [0 if el[0] == 'a' else 1 for el in filenames]\n",
    "    \n",
    "    df['method'] = methods\n",
    "    df['video'] =  video_numbers\n",
    "    df['image'] =  image_numbers\n",
    "    df['dummy'] = [1] * len(filenames)\n",
    "    \n",
    "    return df"
   ]
  },
  {
   "cell_type": "code",
   "execution_count": 6,
   "metadata": {},
   "outputs": [
    {
     "data": {
      "text/html": [
       "<div>\n",
       "<style scoped>\n",
       "    .dataframe tbody tr th:only-of-type {\n",
       "        vertical-align: middle;\n",
       "    }\n",
       "\n",
       "    .dataframe tbody tr th {\n",
       "        vertical-align: top;\n",
       "    }\n",
       "\n",
       "    .dataframe thead th {\n",
       "        text-align: right;\n",
       "    }\n",
       "</style>\n",
       "<table border=\"1\" class=\"dataframe\">\n",
       "  <thead>\n",
       "    <tr style=\"text-align: right;\">\n",
       "      <th></th>\n",
       "      <th>method</th>\n",
       "      <th>video</th>\n",
       "      <th>image</th>\n",
       "      <th>dummy</th>\n",
       "    </tr>\n",
       "  </thead>\n",
       "  <tbody>\n",
       "    <tr>\n",
       "      <th>10</th>\n",
       "      <td>Original</td>\n",
       "      <td>508</td>\n",
       "      <td>0525</td>\n",
       "      <td>1</td>\n",
       "    </tr>\n",
       "    <tr>\n",
       "      <th>11</th>\n",
       "      <td>Original</td>\n",
       "      <td>168</td>\n",
       "      <td>0615</td>\n",
       "      <td>1</td>\n",
       "    </tr>\n",
       "    <tr>\n",
       "      <th>12</th>\n",
       "      <td>Original</td>\n",
       "      <td>604</td>\n",
       "      <td>0405</td>\n",
       "      <td>1</td>\n",
       "    </tr>\n",
       "  </tbody>\n",
       "</table>\n",
       "</div>"
      ],
      "text/plain": [
       "      method video image  dummy\n",
       "10  Original   508  0525      1\n",
       "11  Original   168  0615      1\n",
       "12  Original   604  0405      1"
      ]
     },
     "metadata": {},
     "output_type": "display_data"
    }
   ],
   "source": [
    "data = build_dataframe(images)\n",
    "display(data[10:13])"
   ]
  },
  {
   "cell_type": "code",
   "execution_count": 7,
   "metadata": {},
   "outputs": [
    {
     "data": {
      "text/html": [
       "<div>\n",
       "<style scoped>\n",
       "    .dataframe tbody tr th:only-of-type {\n",
       "        vertical-align: middle;\n",
       "    }\n",
       "\n",
       "    .dataframe tbody tr th {\n",
       "        vertical-align: top;\n",
       "    }\n",
       "\n",
       "    .dataframe thead th {\n",
       "        text-align: right;\n",
       "    }\n",
       "</style>\n",
       "<table border=\"1\" class=\"dataframe\">\n",
       "  <thead>\n",
       "    <tr style=\"text-align: right;\">\n",
       "      <th></th>\n",
       "      <th>method</th>\n",
       "      <th>video</th>\n",
       "      <th>dummy</th>\n",
       "      <th>num frames</th>\n",
       "    </tr>\n",
       "  </thead>\n",
       "  <tbody>\n",
       "    <tr>\n",
       "      <th>0</th>\n",
       "      <td>Deepfakes</td>\n",
       "      <td>001</td>\n",
       "      <td>[1, 1, 1, 1, 1, 1, 1, 1, 1, 1, 1, 1, 1, 1, 1, ...</td>\n",
       "      <td>31</td>\n",
       "    </tr>\n",
       "    <tr>\n",
       "      <th>1</th>\n",
       "      <td>Deepfakes</td>\n",
       "      <td>002</td>\n",
       "      <td>[1, 1, 1, 1, 1, 1, 1, 1, 1, 1, 1, 1, 1, 1, 1, ...</td>\n",
       "      <td>47</td>\n",
       "    </tr>\n",
       "    <tr>\n",
       "      <th>2</th>\n",
       "      <td>Deepfakes</td>\n",
       "      <td>005</td>\n",
       "      <td>[1, 1, 1, 1, 1, 1, 1, 1, 1, 1, 1, 1, 1, 1, 1, ...</td>\n",
       "      <td>26</td>\n",
       "    </tr>\n",
       "  </tbody>\n",
       "</table>\n",
       "</div>"
      ],
      "text/plain": [
       "      method video                                              dummy  \\\n",
       "0  Deepfakes   001  [1, 1, 1, 1, 1, 1, 1, 1, 1, 1, 1, 1, 1, 1, 1, ...   \n",
       "1  Deepfakes   002  [1, 1, 1, 1, 1, 1, 1, 1, 1, 1, 1, 1, 1, 1, 1, ...   \n",
       "2  Deepfakes   005  [1, 1, 1, 1, 1, 1, 1, 1, 1, 1, 1, 1, 1, 1, 1, ...   \n",
       "\n",
       "   num frames  \n",
       "0          31  \n",
       "1          47  \n",
       "2          26  "
      ]
     },
     "metadata": {},
     "output_type": "display_data"
    }
   ],
   "source": [
    "df = data.groupby(['method', 'video'])\\\n",
    "                    ['dummy'].apply(list).reset_index()\n",
    "    \n",
    "collected_labels_pred = list(df['dummy'])\n",
    "num_per_video = [len(el) for el in collected_labels_pred]\n",
    "    \n",
    "df['num frames'] = num_per_video\n",
    "display(df[0:3])"
   ]
  },
  {
   "cell_type": "code",
   "execution_count": 8,
   "metadata": {},
   "outputs": [
    {
     "name": "stdout",
     "output_type": "stream",
     "text": [
      "15\n",
      "100\n",
      "31.64666666666667\n"
     ]
    }
   ],
   "source": [
    "print(np.min(num_per_video))\n",
    "print(np.max(num_per_video))\n",
    "print(np.mean(num_per_video))"
   ]
  }
 ],
 "metadata": {
  "kernelspec": {
   "display_name": "Python 3",
   "language": "python",
   "name": "python3"
  },
  "language_info": {
   "codemirror_mode": {
    "name": "ipython",
    "version": 3
   },
   "file_extension": ".py",
   "mimetype": "text/x-python",
   "name": "python",
   "nbconvert_exporter": "python",
   "pygments_lexer": "ipython3",
   "version": "3.7.3"
  }
 },
 "nbformat": 4,
 "nbformat_minor": 2
}
