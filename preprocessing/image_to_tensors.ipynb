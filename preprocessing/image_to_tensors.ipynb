{
 "cells": [
  {
   "cell_type": "code",
   "execution_count": 1,
   "metadata": {},
   "outputs": [],
   "source": [
    "import numpy as np\n",
    "import pandas as pd\n",
    "import matplotlib.pyplot as plt\n",
    "import seaborn as sns\n",
    "import random\n",
    "import tensorflow as tf\n",
    "\n",
    "import os\n",
    "import glob\n",
    "import cv2"
   ]
  },
  {
   "cell_type": "markdown",
   "metadata": {},
   "source": [
    "## Necessary Functions\n",
    "\n",
    "Taken from 25_May.ipynb from Colab, only paths are modified"
   ]
  },
  {
   "cell_type": "code",
   "execution_count": 5,
   "metadata": {},
   "outputs": [],
   "source": [
    "def get_data(methods, n, img_dim = 224):\n",
    "  '''Reads the data.\n",
    "  \n",
    "  Takes 3 arguments:\n",
    "  1. methods - this is a list containing the which deepfake methods we want\n",
    "  to read in (can also specify original)\n",
    "  2. n - number of videos (first n)\n",
    "  3. img_dim  = 224 - equatest to the length of an image's height and width \n",
    "  \n",
    "  Returns a dictionary with the method and video as the nested keys.\n",
    "  Each dict value has the following shape:\n",
    "  (#(images for a video), Height = img_dim, Width = img_dim, #(Channels) = 3)'''\n",
    "\n",
    "\n",
    "  # path = 'drive/My Drive/Deepfakes Capstone Project/DeepFake-2019-20/images/'\n",
    "  result = {method : [] for method in methods}\n",
    "    \n",
    "  for method in methods:\n",
    "      if method == 'Original': path = 'original_sequences/youtube/c0/'\n",
    "      else: path = 'manipulated_sequences/' + method + '/c0/'\n",
    "\n",
    "      print(\"Starting to load\", method, \"images\")\n",
    "      folders =  os.listdir(path + method + '_images')\n",
    "      folders = sorted(list(set(folders).difference(set(['.DS_Store']))))\n",
    "      # generate 1000 keys for each method with an empty corresponding value\n",
    "      result[method] = {folder:[] for folder in folders}\n",
    "\n",
    "      # only look at the first n videos for a given method\n",
    "      for folder in folders[0:n]:\n",
    "          # output progress\n",
    "          if folder[2] == '0' and folder[1] == '0': print(folder) # every 100th\n",
    "          # if folder[2] == '0': print(folder) # every 10th\n",
    "          # print(folder)\n",
    "\n",
    "          images = []\n",
    "          full_path = path + method + '_images/' + folder\n",
    "          # obtain full paths for all images\n",
    "          images_list = os.listdir(full_path)\n",
    "          images_list = [full_path + \"/\" + el for el in images_list]\n",
    "          \n",
    "          for el in images_list:\n",
    "              # [:,:,::-1] bit just saves arrays backwards:\n",
    "              # reading and writing produces different sequences (RGB vs BGR)\n",
    "              # omitting it will just output blue images which is not problematic for \n",
    "              # networks, hence can be dropped if it becomes more efficient\n",
    "              img = cv2.imread(el) #[:,:,::-1] \n",
    "              # resize so images can be put together in one list\n",
    "              img_resized=cv2.resize(img,(img_dim,img_dim))\n",
    "              images.append(img_resized)\n",
    "\n",
    "          result[method][folder] = np.array(images)\n",
    "\n",
    "      print(\"Loading\", method, \"images is complete\\n\")\n",
    "\n",
    "  return result\n",
    "\n",
    "def extract_images(images, fraction_for_testing):\n",
    "    '''Takes a dictionary of all images obtained from get_data,\n",
    "    splits into training and test data, using the specified\n",
    "    fraction_for_testing (number between 0 and 1), normalises the images and returns \n",
    "    all image data in a list, a more useable form for training and testing.\n",
    "    \n",
    "    Returns:\n",
    "    x: a single array of all cropped images for all videos\n",
    "    (form: (total number of images, height, width, number of channels))\n",
    "\n",
    "    data: a DataFrame containing the method, video, whether its test/train data,\n",
    "    the true label and the predicted label for each frame (predicted labels are\n",
    "    all set to 0 (or Original) as a default).'''\n",
    "\n",
    "    x = []\n",
    "    details = []\n",
    "\n",
    "    for method in images.keys():\n",
    "        # set the label to be 0 for authentic images and 1 for fakes\n",
    "        if method == \"Original\": label = 0\n",
    "        else: label = 1\n",
    "\n",
    "        for folder in images[method].keys():\n",
    "            # build up new, more convinient, separate entries x (array of all images)\n",
    "            # and details (a list with a method, video title and the true label)\n",
    "            arr = images[method][folder]\n",
    "            x += list(arr)\n",
    "            details += list([[method, folder, label]]*len(arr))\n",
    "    \n",
    "    # build up a list with all distinct videos (method, title and true label)\n",
    "    distinct_videos = []\n",
    "    for el in details:\n",
    "      if not el in distinct_videos: distinct_videos.append(el)\n",
    "\n",
    "    num = len(distinct_videos)\n",
    "    # get a random sample from all distinct videos, size of desired testing size\n",
    "    test_videos = random.sample(distinct_videos, int(num*fraction_for_testing))\n",
    "    # attach a corresponding mark ('test' or 'train')\n",
    "    details = [el + ['test'] if el in test_videos else el + ['train'] for el in details]\n",
    "    x = np.array(x); details = np.array(details)\n",
    "\n",
    "    ## Note: by design images from one video can't end up in both testing and\n",
    "    # training data because the split was performed by distinct videos -- \n",
    "    # meaning that a given video fully belongs to one category only\n",
    "    # Hence, there is no intercept of any form between testing and training data\n",
    "\n",
    "    index = range(x.shape[0])\n",
    "    data = pd.DataFrame(index = index, columns = ['method', 'video', 'test/train',\n",
    "                                                  'true label', 'predicted label'])\n",
    "    # filling all predictions as authentic as a default\n",
    "    # (will be changed later after predictions are obtained)\n",
    "    data.fillna(0)\n",
    "\n",
    "    data['method'] = [el[0] for el in details]\n",
    "    data['video'] = [el[1] for el in details]\n",
    "    data['true label'] = [el[2] for el in details]\n",
    "    data['test/train'] = [el[3] for el in details]\n",
    "\n",
    "    x = x.astype('float32')\n",
    "    x /= 255 # normalise\n",
    "\n",
    "    print(\"Image array shape:\", x.shape)\n",
    "\n",
    "    return x, data\n",
    "\n",
    "def extract_labels(data):\n",
    "    '''Takes the dataframe created from extract_images and returns the true labels for \n",
    "    each cropped image, in the categorical format required for training a network\n",
    "    \n",
    "    the labels are of two categories: convention is 0 for fake and 1 otherwise'''\n",
    "\n",
    "    labels = data['true label']; labels = np.array(labels)\n",
    "    # two categories: original/authentic -- 0, fake -- 1\n",
    "    labels = tf.keras.utils.to_categorical(labels, 2)\n",
    "    print(\"Labels shape:\", labels.shape)\n",
    "    return labels"
   ]
  },
  {
   "cell_type": "markdown",
   "metadata": {},
   "source": [
    "## New Functions\n",
    "\n",
    "Written based on 25_May.ipynb (*run_prep* function and saving example from one of the earlier sections)"
   ]
  },
  {
   "cell_type": "code",
   "execution_count": 3,
   "metadata": {},
   "outputs": [],
   "source": [
    "def get_arrays(methods, n, img_dim = 224, fraction_for_testing = 0.1):\n",
    "    '''Reads images from drive into dictionary and array formats, generates\n",
    "    a required dataframe to compute video accuracy later\n",
    "    \n",
    "    Inputs:\n",
    "    1. methods -- a list with elements chosen from ['Original', 'Deepfakes',\n",
    "    'Face2Face', 'FaceSwap', 'NeuralTextures'] -- at least one representative\n",
    "    from each class is required\n",
    "    2. n -- number of videos to be selected from each method (first n videos)\n",
    "    3. img_dimension -- all images are of their original size, to put them into\n",
    "    a single array they are resized to be of the same dimension\n",
    "    4. fraction_for_testing -- (number between 0 and 1), how much data to \n",
    "    reserve for testing during splitting (note: split by videos, not images\n",
    "    so no video can be partially split between training and testing categories)'''\n",
    "\n",
    "    # get a complete dicstionary of information\n",
    "    images = get_data(methods, n, img_dim)\n",
    "    # remould information into separate entries\n",
    "    x, df = extract_images(images, fraction_for_testing)\n",
    "    labels = extract_labels(df)\n",
    "\n",
    "    return x, labels, df\n",
    "\n",
    "def save_arrays(x, df, method):\n",
    "    np.save(\"arrays/\" + method + \"_images.npy\", x)\n",
    "    df.to_csv(\"arrays/\" + method + '_df.csv')"
   ]
  },
  {
   "cell_type": "markdown",
   "metadata": {},
   "source": [
    "## Example\n",
    "\n",
    "Taken from Greg's latest addition to 25_May.ipynb"
   ]
  },
  {
   "cell_type": "code",
   "execution_count": 5,
   "metadata": {},
   "outputs": [
    {
     "name": "stdout",
     "output_type": "stream",
     "text": [
      "Original\n",
      "Starting to load Original images\n",
      "000\n",
      "Loading Original images is complete\n",
      "\n",
      "Image array shape: (58, 224, 224, 3)\n",
      "Labels shape: (58, 2)\n",
      "Deepfakes\n",
      "Starting to load Deepfakes images\n",
      "000_003\n",
      "Loading Deepfakes images is complete\n",
      "\n",
      "Image array shape: (27, 224, 224, 3)\n",
      "Labels shape: (27, 2)\n",
      "FaceSwap\n",
      "Starting to load FaceSwap images\n",
      "000_003\n",
      "Loading FaceSwap images is complete\n",
      "\n",
      "Image array shape: (52, 224, 224, 3)\n",
      "Labels shape: (52, 2)\n",
      "Face2Face\n",
      "Starting to load Face2Face images\n",
      "000_003\n",
      "Loading Face2Face images is complete\n",
      "\n",
      "Image array shape: (62, 224, 224, 3)\n",
      "Labels shape: (62, 2)\n",
      "NeuralTextures\n",
      "Starting to load NeuralTextures images\n",
      "000_003\n",
      "Loading NeuralTextures images is complete\n",
      "\n",
      "Image array shape: (52, 224, 224, 3)\n",
      "Labels shape: (52, 2)\n"
     ]
    }
   ],
   "source": [
    "for i in ['Original','Deepfakes','FaceSwap','Face2Face', 'NeuralTextures']:\n",
    "    print(i)\n",
    "    x_i, labels_i, df_i = get_arrays([i], 2, 224, 0.1)\n",
    "    save_arrays(x_i, df_i, i)"
   ]
  },
  {
   "cell_type": "markdown",
   "metadata": {},
   "source": [
    "## Testing Saved Arrays\n",
    "\n",
    "Based on the function from earlier section in 25_may.ipynb (now tested)"
   ]
  },
  {
   "cell_type": "code",
   "execution_count": 6,
   "metadata": {},
   "outputs": [],
   "source": [
    "def load_arrays_and_dataframe(methods):\n",
    "    '''This function loads image and label arrays, and dataframe for the \n",
    "    requested methods (Original is included because must have a representative\n",
    "    for each class)\n",
    "    \n",
    "    Returns images (also refered to as x through the script), labels and join \n",
    "    dataframe storing all the information\n",
    "    \n",
    "    After this, only shuffle and split functions are required to complete the \n",
    "    \"Prepping the Materials\" section'''\n",
    "\n",
    "    # start with Original images and read array for every other requested method\n",
    "    other_methods = list(set(methods).difference(set(['Original'])))\n",
    "    \n",
    "    images = np.load('arrays/Original_images.npy')\n",
    "    for method in other_methods:\n",
    "        more_images = np.load('arrays/' + method + '_images.npy')\n",
    "        images = np.concatenate((images, more_images))\n",
    "\n",
    "    df = pd.read_csv('arrays/Original_df.csv')\n",
    "    for method in other_methods:\n",
    "        another_df = pd.read_csv('arrays/' + method + '_df.csv')\n",
    "        df = pd.concat([df, another_df])\n",
    "\n",
    "    return images, df.drop(['Unnamed: 0'], axis=1)\n",
    "\n",
    "images, df = load_arrays_and_dataframe(methods = ['Original','Deepfakes','FaceSwap','Face2Face', 'NeuralTextures'])"
   ]
  },
  {
   "cell_type": "code",
   "execution_count": 7,
   "metadata": {},
   "outputs": [
    {
     "data": {
      "text/plain": [
       "<matplotlib.image.AxesImage at 0x1057d2470>"
      ]
     },
     "execution_count": 7,
     "metadata": {},
     "output_type": "execute_result"
    },
    {
     "data": {
      "image/png": "[encoded data removed]",
      "text/plain": [
       "<Figure size 432x288 with 1 Axes>"
      ]
     },
     "metadata": {
      "needs_background": "light"
     },
     "output_type": "display_data"
    }
   ],
   "source": [
    "# [:,:,::-1] reverses the order of pixels: reading and saving have different order for colours\n",
    "plt.imshow(images[100][:,:,::-1])"
   ]
  },
  {
   "cell_type": "code",
   "execution_count": 8,
   "metadata": {},
   "outputs": [
    {
     "data": {
      "text/html": [
       "<div>\n",
       "<style scoped>\n",
       "    .dataframe tbody tr th:only-of-type {\n",
       "        vertical-align: middle;\n",
       "    }\n",
       "\n",
       "    .dataframe tbody tr th {\n",
       "        vertical-align: top;\n",
       "    }\n",
       "\n",
       "    .dataframe thead th {\n",
       "        text-align: right;\n",
       "    }\n",
       "</style>\n",
       "<table border=\"1\" class=\"dataframe\">\n",
       "  <thead>\n",
       "    <tr style=\"text-align: right;\">\n",
       "      <th></th>\n",
       "      <th>method</th>\n",
       "      <th>video</th>\n",
       "      <th>test/train</th>\n",
       "      <th>true label</th>\n",
       "      <th>predicted label</th>\n",
       "    </tr>\n",
       "  </thead>\n",
       "  <tbody>\n",
       "    <tr>\n",
       "      <th>20</th>\n",
       "      <td>Original</td>\n",
       "      <td>0</td>\n",
       "      <td>train</td>\n",
       "      <td>0</td>\n",
       "      <td>NaN</td>\n",
       "    </tr>\n",
       "    <tr>\n",
       "      <th>21</th>\n",
       "      <td>Original</td>\n",
       "      <td>0</td>\n",
       "      <td>train</td>\n",
       "      <td>0</td>\n",
       "      <td>NaN</td>\n",
       "    </tr>\n",
       "    <tr>\n",
       "      <th>22</th>\n",
       "      <td>Original</td>\n",
       "      <td>0</td>\n",
       "      <td>train</td>\n",
       "      <td>0</td>\n",
       "      <td>NaN</td>\n",
       "    </tr>\n",
       "    <tr>\n",
       "      <th>23</th>\n",
       "      <td>Original</td>\n",
       "      <td>0</td>\n",
       "      <td>train</td>\n",
       "      <td>0</td>\n",
       "      <td>NaN</td>\n",
       "    </tr>\n",
       "    <tr>\n",
       "      <th>24</th>\n",
       "      <td>Original</td>\n",
       "      <td>0</td>\n",
       "      <td>train</td>\n",
       "      <td>0</td>\n",
       "      <td>NaN</td>\n",
       "    </tr>\n",
       "    <tr>\n",
       "      <th>25</th>\n",
       "      <td>Original</td>\n",
       "      <td>0</td>\n",
       "      <td>train</td>\n",
       "      <td>0</td>\n",
       "      <td>NaN</td>\n",
       "    </tr>\n",
       "    <tr>\n",
       "      <th>26</th>\n",
       "      <td>Original</td>\n",
       "      <td>0</td>\n",
       "      <td>train</td>\n",
       "      <td>0</td>\n",
       "      <td>NaN</td>\n",
       "    </tr>\n",
       "    <tr>\n",
       "      <th>27</th>\n",
       "      <td>Original</td>\n",
       "      <td>1</td>\n",
       "      <td>train</td>\n",
       "      <td>0</td>\n",
       "      <td>NaN</td>\n",
       "    </tr>\n",
       "    <tr>\n",
       "      <th>28</th>\n",
       "      <td>Original</td>\n",
       "      <td>1</td>\n",
       "      <td>train</td>\n",
       "      <td>0</td>\n",
       "      <td>NaN</td>\n",
       "    </tr>\n",
       "    <tr>\n",
       "      <th>29</th>\n",
       "      <td>Original</td>\n",
       "      <td>1</td>\n",
       "      <td>train</td>\n",
       "      <td>0</td>\n",
       "      <td>NaN</td>\n",
       "    </tr>\n",
       "  </tbody>\n",
       "</table>\n",
       "</div>"
      ],
      "text/plain": [
       "      method video test/train  true label  predicted label\n",
       "20  Original     0      train           0              NaN\n",
       "21  Original     0      train           0              NaN\n",
       "22  Original     0      train           0              NaN\n",
       "23  Original     0      train           0              NaN\n",
       "24  Original     0      train           0              NaN\n",
       "25  Original     0      train           0              NaN\n",
       "26  Original     0      train           0              NaN\n",
       "27  Original     1      train           0              NaN\n",
       "28  Original     1      train           0              NaN\n",
       "29  Original     1      train           0              NaN"
      ]
     },
     "metadata": {},
     "output_type": "display_data"
    }
   ],
   "source": [
    "display(df[20:30])"
   ]
  },
  {
   "cell_type": "markdown",
   "metadata": {},
   "source": [
    "## Saving Arrays\n",
    "\n",
    "Final run which produces the data which we will be using\n",
    "\n",
    "Done separately for each method due to kernel timeout\n",
    "\n",
    "Based on Greg's latest addition to 25_May.ipynb"
   ]
  },
  {
   "cell_type": "code",
   "execution_count": 4,
   "metadata": {},
   "outputs": [
    {
     "name": "stdout",
     "output_type": "stream",
     "text": [
      "Original\n",
      "Starting to load Original images\n",
      "000\n",
      "100\n",
      "200\n",
      "300\n",
      "400\n",
      "500\n",
      "600\n",
      "700\n",
      "800\n",
      "900\n",
      "Loading Original images is complete\n",
      "\n",
      "Image array shape: (34399, 224, 224, 3)\n",
      "Labels shape: (34399, 2)\n"
     ]
    }
   ],
   "source": [
    "for i in ['Original']:\n",
    "    print(i)\n",
    "    x_i, labels_i, df_i = get_arrays([i], 1000, 224, 0.1)\n",
    "    save_arrays(x_i, df_i, i)"
   ]
  },
  {
   "cell_type": "code",
   "execution_count": 6,
   "metadata": {},
   "outputs": [
    {
     "name": "stdout",
     "output_type": "stream",
     "text": [
      "Deepfakes\n",
      "Starting to load Deepfakes images\n",
      "000_003\n",
      "100_077\n",
      "200_189\n",
      "300_304\n",
      "400_476\n",
      "500_592\n",
      "600_505\n",
      "700_813\n",
      "800_840\n",
      "900_926\n",
      "Loading Deepfakes images is complete\n",
      "\n",
      "Image array shape: (34390, 224, 224, 3)\n",
      "Labels shape: (34390, 2)\n"
     ]
    }
   ],
   "source": [
    "for i in ['Deepfakes']:\n",
    "    print(i)\n",
    "    x_i, labels_i, df_i = get_arrays([i], 1000, 224, 0.1)\n",
    "    save_arrays(x_i, df_i, i)"
   ]
  },
  {
   "cell_type": "code",
   "execution_count": 4,
   "metadata": {},
   "outputs": [
    {
     "name": "stdout",
     "output_type": "stream",
     "text": [
      "FaceSwap\n",
      "Starting to load FaceSwap images\n",
      "000_003\n",
      "100_077\n",
      "200_189\n",
      "300_304\n",
      "400_476\n",
      "500_592\n",
      "600_505\n",
      "700_813\n",
      "800_840\n",
      "900_926\n",
      "Loading FaceSwap images is complete\n",
      "\n",
      "Image array shape: (27541, 224, 224, 3)\n",
      "Labels shape: (27541, 2)\n"
     ]
    }
   ],
   "source": [
    "for i in ['FaceSwap']:\n",
    "    print(i)\n",
    "    x_i, labels_i, df_i = get_arrays([i], 1000, 224, 0.1)\n",
    "    save_arrays(x_i, df_i, i)"
   ]
  },
  {
   "cell_type": "code",
   "execution_count": 4,
   "metadata": {},
   "outputs": [
    {
     "name": "stdout",
     "output_type": "stream",
     "text": [
      "Face2Face\n",
      "Starting to load Face2Face images\n",
      "000_003\n",
      "100_077\n",
      "200_189\n",
      "300_304\n",
      "400_476\n",
      "500_592\n",
      "600_505\n",
      "700_813\n",
      "800_840\n",
      "900_926\n",
      "Loading Face2Face images is complete\n",
      "\n",
      "Image array shape: (34401, 224, 224, 3)\n",
      "Labels shape: (34401, 2)\n"
     ]
    }
   ],
   "source": [
    "for i in ['Face2Face']:\n",
    "    print(i)\n",
    "    x_i, labels_i, df_i = get_arrays([i], 1000, 224, 0.1)\n",
    "    save_arrays(x_i, df_i, i)"
   ]
  },
  {
   "cell_type": "code",
   "execution_count": 4,
   "metadata": {},
   "outputs": [
    {
     "name": "stdout",
     "output_type": "stream",
     "text": [
      "NeuralTextures\n",
      "Starting to load NeuralTextures images\n",
      "000_003\n",
      "100_077\n",
      "200_189\n",
      "300_304\n",
      "400_476\n",
      "500_592\n",
      "600_505\n",
      "700_813\n",
      "800_840\n",
      "900_926\n",
      "Loading NeuralTextures images is complete\n",
      "\n",
      "Image array shape: (27542, 224, 224, 3)\n",
      "Labels shape: (27542, 2)\n"
     ]
    }
   ],
   "source": [
    "for i in ['NeuralTextures']:\n",
    "    print(i)\n",
    "    x_i, labels_i, df_i = get_arrays([i], 1000, 224, 0.1)\n",
    "    save_arrays(x_i, df_i, i)"
   ]
  }
 ],
 "metadata": {
  "kernelspec": {
   "display_name": "Python 3",
   "language": "python",
   "name": "python3"
  },
  "language_info": {
   "codemirror_mode": {
    "name": "ipython",
    "version": 3
   },
   "file_extension": ".py",
   "mimetype": "text/x-python",
   "name": "python",
   "nbconvert_exporter": "python",
   "pygments_lexer": "ipython3",
   "version": "3.7.3"
  }
 },
 "nbformat": 4,
 "nbformat_minor": 2
}
