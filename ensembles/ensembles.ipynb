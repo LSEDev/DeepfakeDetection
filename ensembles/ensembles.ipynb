{
 "cells": [
  {
   "cell_type": "markdown",
   "metadata": {},
   "source": [
    "# Import Modules\n",
    "Have to restart kernel after installing DeepStack"
   ]
  },
  {
   "cell_type": "code",
   "execution_count": 16,
   "metadata": {},
   "outputs": [
    {
     "name": "stdout",
     "output_type": "stream",
     "text": [
      "Collecting git+https://github.com/qubvel/efficientnet\n",
      "  Cloning https://github.com/qubvel/efficientnet to /tmp/pip-req-build-z17z0_ah\n",
      "  Running command git clone -q https://github.com/qubvel/efficientnet /tmp/pip-req-build-z17z0_ah\n",
      "Requirement already satisfied (use --upgrade to upgrade): efficientnet==1.1.0 from git+https://github.com/qubvel/efficientnet in /opt/conda/lib/python3.7/site-packages\n",
      "Requirement already satisfied: keras_applications<=1.0.8,>=1.0.7 in /opt/conda/lib/python3.7/site-packages (from efficientnet==1.1.0) (1.0.8)\n",
      "Requirement already satisfied: scikit-image in /opt/conda/lib/python3.7/site-packages (from efficientnet==1.1.0) (0.17.2)\n",
      "Requirement already satisfied: h5py in /opt/conda/lib/python3.7/site-packages (from keras_applications<=1.0.8,>=1.0.7->efficientnet==1.1.0) (2.10.0)\n",
      "Requirement already satisfied: numpy>=1.9.1 in /opt/conda/lib/python3.7/site-packages (from keras_applications<=1.0.8,>=1.0.7->efficientnet==1.1.0) (1.19.0)\n",
      "Requirement already satisfied: scipy>=1.0.1 in /home/jupyter/.local/lib/python3.7/site-packages (from scikit-image->efficientnet==1.1.0) (1.4.1)\n",
      "Requirement already satisfied: matplotlib!=3.0.0,>=2.0.0 in /opt/conda/lib/python3.7/site-packages (from scikit-image->efficientnet==1.1.0) (3.2.2)\n",
      "Requirement already satisfied: networkx>=2.0 in /opt/conda/lib/python3.7/site-packages (from scikit-image->efficientnet==1.1.0) (2.4)\n",
      "Requirement already satisfied: pillow!=7.1.0,!=7.1.1,>=4.3.0 in /opt/conda/lib/python3.7/site-packages (from scikit-image->efficientnet==1.1.0) (7.1.2)\n",
      "Requirement already satisfied: imageio>=2.3.0 in /opt/conda/lib/python3.7/site-packages (from scikit-image->efficientnet==1.1.0) (2.8.0)\n",
      "Requirement already satisfied: tifffile>=2019.7.26 in /opt/conda/lib/python3.7/site-packages (from scikit-image->efficientnet==1.1.0) (2020.6.3)\n",
      "Requirement already satisfied: PyWavelets>=1.1.1 in /opt/conda/lib/python3.7/site-packages (from scikit-image->efficientnet==1.1.0) (1.1.1)\n",
      "Requirement already satisfied: six in /opt/conda/lib/python3.7/site-packages (from h5py->keras_applications<=1.0.8,>=1.0.7->efficientnet==1.1.0) (1.15.0)\n",
      "Requirement already satisfied: python-dateutil>=2.1 in /opt/conda/lib/python3.7/site-packages (from matplotlib!=3.0.0,>=2.0.0->scikit-image->efficientnet==1.1.0) (2.8.1)\n",
      "Requirement already satisfied: pyparsing!=2.0.4,!=2.1.2,!=2.1.6,>=2.0.1 in /opt/conda/lib/python3.7/site-packages (from matplotlib!=3.0.0,>=2.0.0->scikit-image->efficientnet==1.1.0) (2.4.7)\n",
      "Requirement already satisfied: cycler>=0.10 in /opt/conda/lib/python3.7/site-packages (from matplotlib!=3.0.0,>=2.0.0->scikit-image->efficientnet==1.1.0) (0.10.0)\n",
      "Requirement already satisfied: kiwisolver>=1.0.1 in /opt/conda/lib/python3.7/site-packages (from matplotlib!=3.0.0,>=2.0.0->scikit-image->efficientnet==1.1.0) (1.2.0)\n",
      "Requirement already satisfied: decorator>=4.3.0 in /opt/conda/lib/python3.7/site-packages (from networkx>=2.0->scikit-image->efficientnet==1.1.0) (4.4.2)\n",
      "Building wheels for collected packages: efficientnet\n",
      "  Building wheel for efficientnet (setup.py) ... \u001b[?25ldone\n",
      "\u001b[?25h  Created wheel for efficientnet: filename=efficientnet-1.1.0-py3-none-any.whl size=18397 sha256=9fb61f3edff1fac7bd54d76ef75c5bdbd224927615ec47f138d2c2d49168772b\n",
      "  Stored in directory: /tmp/pip-ephem-wheel-cache-8718n97i/wheels/11/69/85/814d64d694c96db0eef17b718042d644a1e54f113920481920\n",
      "Successfully built efficientnet\n"
     ]
    }
   ],
   "source": [
    "import numpy as np\n",
    "import pandas as pd\n",
    "import tensorflow as tf\n",
    "import tensorflow.keras\n",
    "from tensorflow.keras.models import load_model as kerasload\n",
    "from tensorflow.keras.preprocessing.image import ImageDataGenerator\n",
    "import sys\n",
    "\n",
    "af_dir = '../../all_faces_bucket/'\n",
    "disk_data_dir = '../../all_faces_disk/home/jupyter/forensics_split/'\n",
    "!pip install git+https://github.com/qubvel/efficientnet\n",
    "\n",
    "sys.path.insert(1, '/home/jupyter/DeepFake-2019-20/predictions/DeepStack/deepstack')\n",
    "from base import *\n",
    "from ensemble import *\n",
    "import efficientnet.tfkeras\n",
    "# from DeepStack.base import KerasMember\n",
    "# from deepstack.ensemble import r\n",
    "# from deepstack.ensemble import DirichletEnsemble\n",
    "# from deepstack.ensemble import StackEnsemble\n",
    "# from deepstack.base import Member\n",
    "import joblib\n",
    "import os\n",
    "import glob\n",
    "import sklearn\n",
    "from sklearn.ensemble import RandomForestRegressor\n",
    "from sklearn.metrics import accuracy_score\n",
    "from sklearn.linear_model import LogisticRegression\n",
    "from sklearn.ensemble import StackingClassifier\n",
    "from sklearn.ensemble import RandomForestClassifier\n",
    "from sklearn.ensemble import ExtraTreesClassifier\n",
    "# !sudo kill -9 PID # clear GPU memory where 9 is PID number\n",
    "# !watch -n0.1 nvidia-smi"
   ]
  },
  {
   "cell_type": "markdown",
   "metadata": {},
   "source": [
    "# Load models"
   ]
  },
  {
   "cell_type": "code",
   "execution_count": 2,
   "metadata": {},
   "outputs": [],
   "source": [
    "def get_model(config):\n",
    "    '''Loads one of the saved models based on specified config'''\n",
    "    \n",
    "    return kerasload(af_dir + 'trained_models/saved_models/config' + str(config) + '.h5')\n",
    "\n",
    "model1 = get_model(2)\n",
    "model2 = get_model(3)\n",
    "# model3 = get_model(2)\n",
    "# model4 = get_model(3)\n",
    "# model5 = get_model(4)\n",
    "# model6 = get_model(5)\n",
    "# model7 = get_model(6)\n",
    "# model8 = get_model(7)\n",
    "# model9 = get_model(8)\n",
    "# model10 = get_model(9)\n",
    "# model11 = get_model(10)\n",
    "# model11 = get_model(11)"
   ]
  },
  {
   "cell_type": "markdown",
   "metadata": {},
   "source": [
    "# Create image generators"
   ]
  },
  {
   "cell_type": "code",
   "execution_count": 9,
   "metadata": {},
   "outputs": [
    {
     "name": "stdout",
     "output_type": "stream",
     "text": [
      "Found 113928 images belonging to 2 classes.\n",
      "Found 21291 images belonging to 2 classes.\n"
     ]
    }
   ],
   "source": [
    "# Create data generators\n",
    "def augment_data(directory, batch):\n",
    "    '''Prepares train-time augmentation using given training and validations data)\n",
    "    \n",
    "    Returns train_data, val_data'''\n",
    "\n",
    "    datagen_train = ImageDataGenerator(\n",
    "            featurewise_center=False,  # set input mean to 0 over the dataset\n",
    "            samplewise_center=True,  # set each sample mean to 0\n",
    "            featurewise_std_normalization=False,  # divide inputs by std of the dataset\n",
    "            samplewise_std_normalization=True,  # divide each input by its std\n",
    "            zca_whitening=False,  # apply ZCA whitening\n",
    "            zca_epsilon=1e-06,  # epsilon for ZCA whitening\n",
    "            rotation_range=20,  # randomly rotate images in the range (degrees, 0 to 180)\n",
    "            shear_range=0.,  # set range for random shear\n",
    "            zoom_range=0.,  # set range for random zoom\n",
    "            channel_shift_range=0.,  # set range for random channel shifts\n",
    "            # set mode for filling points outside the input boundaries\n",
    "            fill_mode='nearest',\n",
    "            cval=0.,  # value used for fill_mode = \"constant\"\n",
    "            brightness_range=None,\n",
    "            horizontal_flip=True,  # randomly flip images\n",
    "            vertical_flip=False,  # randomly flip images\n",
    "            # set rescaling factor (applied before any other transformation)\n",
    "            rescale=None,\n",
    "            # set function that will be applied on each input\n",
    "#             preprocessing_function=deepaug.joint_function,\n",
    "            # image data format, either \"channels_first\" or \"channels_last\"\n",
    "            data_format=None,\n",
    "            # fraction of images reserved for validation (strictly between 0 and 1)\n",
    "            )\n",
    "    \n",
    "    datagen_test = ImageDataGenerator(samplewise_center=True, samplewise_std_normalization=True)\n",
    "\n",
    "    # Classes give the folders storing the two different categories\n",
    "    train_data = datagen_train.flow_from_directory(directory + '/train',\n",
    "                                             target_size=(224,224), batch_size = batch, classes=['authentic','fake'])\n",
    "    \n",
    "    val_data = datagen_test.flow_from_directory(directory + '/validation',\n",
    "                                             target_size=(224,224), batch_size = batch, classes=['authentic','fake'])\n",
    "    \n",
    "    return train_data, val_data\n",
    "\n",
    "train_data, val_data = augment_data('../../forensics_split', batch=128)"
   ]
  },
  {
   "cell_type": "markdown",
   "metadata": {},
   "source": [
    "# Instantiate KerasMembers\n",
    "This will find all training and validation predictions. A fit method can then be applied to obtain to the members to create the ensemble."
   ]
  },
  {
   "cell_type": "code",
   "execution_count": 10,
   "metadata": {},
   "outputs": [
    {
     "name": "stdout",
     "output_type": "stream",
     "text": [
      "891/891 [==============================] - 688s 772ms/step\n",
      "167/167 [==============================] - 50s 298ms/step\n",
      "891/891 [==============================] - 690s 774ms/step\n",
      "167/167 [==============================] - 48s 287ms/step\n"
     ]
    }
   ],
   "source": [
    "member1 = KerasMember(name=\"model1\", keras_model=model1, train_batches=train_data, val_batches=val_data)\n",
    "member2 = KerasMember(name=\"model2\", keras_model=model2, train_batches=train_data, val_batches=val_data)\n",
    "# member3 = KerasMember(name=\"model3\", keras_model=model3, train_batches=train_data, val_batches=val_data)\n",
    "# member4 = KerasMember(name=\"model4\", keras_model=model4, train_batches=train_data, val_batches=val_data)"
   ]
  },
  {
   "cell_type": "code",
   "execution_count": null,
   "metadata": {},
   "outputs": [],
   "source": [
    "# Load members\n",
    "folder = '../../all_faces_bucket/trained_models/saved_models/stack'\n",
    "stack = joblib.load(os.path.join(folder, \"stackensemble.joblib\"))\n",
    "stack.members = []\n",
    "if folder[-1] != os.sep:\n",
    "    folder += os.sep\n",
    "for fn in glob.glob(folder + \"**/\"):\n",
    "    member = Member.load(fn)\n",
    "    stack.add_member(member)\n",
    "    \n",
    "member1 = stack.members[0]\n",
    "member2 = stack.members[1]"
   ]
  },
  {
   "cell_type": "markdown",
   "metadata": {},
   "source": [
    "# Fit weighted average ensemble"
   ]
  },
  {
   "cell_type": "code",
   "execution_count": 24,
   "metadata": {},
   "outputs": [
    {
     "data": {
      "text/plain": [
       "array([0.46218966, 0.53781034])"
      ]
     },
     "execution_count": 24,
     "metadata": {},
     "output_type": "execute_result"
    }
   ],
   "source": [
    "# wAvgEnsemble = DirichletEnsemble()\n",
    "# wAvgEnsemble.add_members([member1, member2])\n",
    "# wAvgEnsemble.fit()\n",
    "# wAvgEnsemble.describe()\n",
    "wAvgEnsemble.bestweights"
   ]
  },
  {
   "cell_type": "markdown",
   "metadata": {},
   "source": [
    "# Fit stacking ensemble"
   ]
  },
  {
   "cell_type": "code",
   "execution_count": 14,
   "metadata": {},
   "outputs": [
    {
     "name": "stdout",
     "output_type": "stream",
     "text": [
      "Calling predict\n",
      "[[0.9857336  0.01426641]\n",
      " [0.9958896  0.00411043]\n",
      " [0.99520314 0.00479682]\n",
      " ...\n",
      " [0.1587801  0.8412199 ]\n",
      " [0.01335015 0.98664993]\n",
      " [0.01235618 0.98764384]]\n",
      "[[0.9857336  0.01426641]\n",
      " [0.9958896  0.00411043]\n",
      " [0.99520314 0.00479682]\n",
      " ...\n",
      " [0.1587801  0.8412199 ]\n",
      " [0.01335015 0.98664993]\n",
      " [0.01235618 0.98764384]]\n",
      "model1 - roc_auc_score: 0.9938\n",
      "[[9.4082749e-01 5.9172526e-02]\n",
      " [9.9677074e-01 3.2293212e-03]\n",
      " [9.9948561e-01 5.1431154e-04]\n",
      " ...\n",
      " [7.1437165e-02 9.2856288e-01]\n",
      " [1.4989050e-02 9.8501092e-01]\n",
      " [8.5764965e-03 9.9142355e-01]]\n",
      "[[9.4082749e-01 5.9172526e-02]\n",
      " [9.9677074e-01 3.2293212e-03]\n",
      " [9.9948561e-01 5.1431154e-04]\n",
      " ...\n",
      " [7.1437165e-02 9.2856288e-01]\n",
      " [1.4989050e-02 9.8501092e-01]\n",
      " [8.5764965e-03 9.9142355e-01]]\n",
      "model2 - roc_auc_score: 0.9926\n",
      "[2.22591130e-03 1.03571757e-04 2.66549535e-04 ... 1.00000000e+00\n",
      " 1.00000000e+00 1.00000000e+00]\n",
      "StackEnsemble roc_auc_score: 0.9914\n"
     ]
    },
    {
     "data": {
      "text/plain": [
       "0.99137755331052"
      ]
     },
     "execution_count": 14,
     "metadata": {},
     "output_type": "execute_result"
    }
   ],
   "source": [
    "stack = StackEnsemble()\n",
    "stack.model = RandomForestRegressor(verbose=0, n_estimators=200, \n",
    "                                  max_depth=15, n_jobs=20, min_samples_split=20)\n",
    "stack.add_members([member1, member2])\n",
    "stack.fit()\n",
    "stack.describe()"
   ]
  },
  {
   "cell_type": "code",
   "execution_count": 11,
   "metadata": {},
   "outputs": [
    {
     "name": "stdout",
     "output_type": "stream",
     "text": [
      "Calling predict\n",
      "model1 - Test Accuracy: 0.9772\n",
      "model2 - Test Accuracy: 0.9592\n",
      "StackEnsemble Test Accuracy: 0.9770\n"
     ]
    },
    {
     "data": {
      "text/plain": [
       "0.9769855807618243"
      ]
     },
     "execution_count": 11,
     "metadata": {},
     "output_type": "execute_result"
    }
   ],
   "source": [
    "stack = StackEnsemble()\n",
    "stack.model = RandomForestRegressor(verbose=0, n_estimators=200, \n",
    "                                  max_depth=15, n_jobs=20, min_samples_split=20)\n",
    "stack.add_members([member1, member2])\n",
    "stack.fit()\n",
    "stack.describe(metric='acc')"
   ]
  },
  {
   "cell_type": "code",
   "execution_count": 13,
   "metadata": {},
   "outputs": [
    {
     "data": {
      "text/plain": [
       "(21291,)"
      ]
     },
     "execution_count": 13,
     "metadata": {},
     "output_type": "execute_result"
    }
   ],
   "source": [
    "stack.predictions"
   ]
  },
  {
   "cell_type": "markdown",
   "metadata": {},
   "source": [
    "# 3 Level Stacking"
   ]
  },
  {
   "cell_type": "code",
   "execution_count": 11,
   "metadata": {},
   "outputs": [
    {
     "name": "stdout",
     "output_type": "stream",
     "text": [
      "Calling predict\n",
      "model1 - roc_auc_score: 0.9918\n",
      "model2 - roc_auc_score: 0.9870\n",
      "StackEnsemble roc_auc_score: 0.9584\n"
     ]
    },
    {
     "data": {
      "text/plain": [
       "0.9584082769101238"
      ]
     },
     "execution_count": 11,
     "metadata": {},
     "output_type": "execute_result"
    }
   ],
   "source": [
    "stack3 = StackEnsemble()\n",
    "\n",
    "# 2nd Level Meta-Learner\n",
    "estimators = [\n",
    "    ('rf', RandomForestClassifier(verbose=0, n_estimators=200, max_depth=15, n_jobs=20, min_samples_split=30)),\n",
    "    ('etr', ExtraTreesClassifier(verbose=0, n_estimators=200, max_depth=10, n_jobs=20, min_samples_split=20))\n",
    "]\n",
    "# 3rd Level Meta-Learner\n",
    "clf = StackingClassifier(\n",
    "    estimators=estimators, final_estimator=LogisticRegression()\n",
    ")\n",
    "\n",
    "stack3.model = clf\n",
    "stack3.add_members([member1, member2])\n",
    "stack3.fit()\n",
    "stack3.describe()"
   ]
  },
  {
   "cell_type": "code",
   "execution_count": 12,
   "metadata": {},
   "outputs": [
    {
     "data": {
      "text/plain": [
       "<StackEnsemble: [model1, model2]>"
      ]
     },
     "execution_count": 12,
     "metadata": {},
     "output_type": "execute_result"
    }
   ],
   "source": [
    "# Save models\n",
    "# wAvgEnsemble.save(af_dir + 'trained_models/saved_models/weighted_average')\n",
    "stack.save(af_dir + 'trained_models/saved_models/stack')\n",
    "stack3.save(af_dir + 'trained_models/saved_models/stack3')"
   ]
  }
 ],
 "metadata": {
  "environment": {
   "name": "tf2-2-2-gpu.2-2.m50",
   "type": "gcloud",
   "uri": "gcr.io/deeplearning-platform-release/tf2-2-2-gpu.2-2:m50"
  },
  "kernelspec": {
   "display_name": "Python 3",
   "language": "python",
   "name": "python3"
  },
  "language_info": {
   "codemirror_mode": {
    "name": "ipython",
    "version": 3
   },
   "file_extension": ".py",
   "mimetype": "text/x-python",
   "name": "python",
   "nbconvert_exporter": "python",
   "pygments_lexer": "ipython3",
   "version": "3.7.6"
  }
 },
 "nbformat": 4,
 "nbformat_minor": 4
}
