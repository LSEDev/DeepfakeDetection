{
 "cells": [
  {
   "cell_type": "markdown",
   "metadata": {},
   "source": [
    "# Import Modules\n",
    "Have to restart kernel after installing DeepStack"
   ]
  },
  {
   "cell_type": "code",
   "execution_count": null,
   "metadata": {},
   "outputs": [],
   "source": [
    "import numpy as np\n",
    "import pandas as pd\n",
    "import tensorflow as tf\n",
    "import tensorflow.keras\n",
    "from tensorflow.keras.models import load_model as kerasload\n",
    "from tensorflow.keras.preprocessing.image import ImageDataGenerator\n",
    "import sys\n",
    "\n",
    "af_dir = '../../all_faces_bucket/'\n",
    "disk_data_dir = '../../all_faces_disk/home/jupyter/forensics_split/'\n",
    "!pip install git+https://github.com/qubvel/efficientnet\n",
    "\n",
    "sys.path.insert(1, '/home/jupyter/DeepFake-2019-20/ensembles/DeepStack/deepstack')\n",
    "from base import *\n",
    "from ensemble import *\n",
    "import efficientnet.tfkeras\n",
    "import joblib\n",
    "import os\n",
    "import glob\n",
    "import sklearn\n",
    "from sklearn.ensemble import RandomForestRegressor\n",
    "from sklearn.metrics import accuracy_score\n",
    "from sklearn.linear_model import LogisticRegression\n",
    "from sklearn.ensemble import StackingClassifier\n",
    "from sklearn.ensemble import RandomForestClassifier\n",
    "from sklearn.ensemble import ExtraTreesClassifier\n",
    "# !sudo kill -9 PID # clear GPU memory where 9 is PID number\n",
    "# !watch -n0.1 nvidia-smi"
   ]
  },
  {
   "cell_type": "markdown",
   "metadata": {},
   "source": [
    "# Load models"
   ]
  },
  {
   "cell_type": "code",
   "execution_count": 3,
   "metadata": {},
   "outputs": [],
   "source": [
    "def get_model(config, network_type):\n",
    "    '''Loads one of the saved models based on specified config'''\n",
    "    \n",
    "    return kerasload(af_dir + 'trained_models/saved_models/ensemble_' + str(config) + '_' + network_type +'.h5')\n",
    "\n",
    "model1 = get_model(40,'B7')\n",
    "model2 = get_model(13,'B0')\n",
    "model3 = get_model(24,'B0')\n",
    "model4 = get_model(6,'B0')\n",
    "model5 = get_model(25,'B3')\n",
    "model6 = get_model(2,'B2')\n",
    "model7 = get_model(3,'B3')\n",
    "model8 = get_model(8,'B7')\n",
    "model9 = get_model(17,'b6')"
   ]
  },
  {
   "cell_type": "markdown",
   "metadata": {},
   "source": [
    "# Create image generators"
   ]
  },
  {
   "cell_type": "code",
   "execution_count": 5,
   "metadata": {},
   "outputs": [
    {
     "name": "stdout",
     "output_type": "stream",
     "text": [
      "Found 21291 images belonging to 2 classes.\n",
      "Found 23054 images belonging to 2 classes.\n"
     ]
    }
   ],
   "source": [
    "# Create data generators\n",
    "def augment_data(directory, batch):\n",
    "    '''Prepares train-time augmentation using given training and validations data)\n",
    "    \n",
    "    Returns train_data, val_data'''\n",
    "    \n",
    "    datagen1 = ImageDataGenerator(samplewise_center=True, samplewise_std_normalization=True)\n",
    "    datagen2 = ImageDataGenerator(samplewise_center=True, samplewise_std_normalization=True)\n",
    "\n",
    "    # Classes give the folders storing the two different categories\n",
    "    train_data = datagen1.flow_from_directory(directory + '/validation',\n",
    "                                             target_size=(224,224), batch_size = batch, classes=['authentic','fake'])\n",
    "    \n",
    "    val_data = datagen2.flow_from_directory(directory + '/test',\n",
    "                                             target_size=(224,224), batch_size = batch, classes=['authentic','fake'])\n",
    "    \n",
    "    return train_data, val_data\n",
    "\n",
    "train_data, val_data = augment_data('../../forensics_split', batch=128)"
   ]
  },
  {
   "cell_type": "markdown",
   "metadata": {},
   "source": [
    "# Instantiate KerasMembers\n",
    "This will find all training and validation predictions. A fit method can then be applied to obtain to the members to create the ensemble."
   ]
  },
  {
   "cell_type": "code",
   "execution_count": 21,
   "metadata": {},
   "outputs": [
    {
     "name": "stdout",
     "output_type": "stream",
     "text": [
      "167/167 [==============================] - 238s 1s/step\n",
      "181/181 [==============================] - 265s 1s/step\n",
      "  2/167 [..............................] - ETA: 9sWARNING:tensorflow:Callbacks method `on_predict_batch_end` is slow compared to the batch time (batch time: 0.1063s vs `on_predict_batch_end` time: 0.1773s). Check your callbacks.\n",
      "167/167 [==============================] - 47s 284ms/step\n",
      "181/181 [==============================] - 55s 305ms/step\n",
      "  2/167 [..............................] - ETA: 25sWARNING:tensorflow:Callbacks method `on_predict_batch_end` is slow compared to the batch time (batch time: 0.1089s vs `on_predict_batch_end` time: 0.1771s). Check your callbacks.\n",
      "167/167 [==============================] - 48s 286ms/step\n",
      "181/181 [==============================] - 55s 307ms/step\n",
      "  2/167 [..............................] - ETA: 26sWARNING:tensorflow:Callbacks method `on_predict_batch_end` is slow compared to the batch time (batch time: 0.1067s vs `on_predict_batch_end` time: 0.1742s). Check your callbacks.\n",
      "167/167 [==============================] - 48s 284ms/step\n",
      "  2/181 [..............................] - ETA: 27sWARNING:tensorflow:Callbacks method `on_predict_batch_end` is slow compared to the batch time (batch time: 0.1049s vs `on_predict_batch_end` time: 0.1794s). Check your callbacks.\n",
      "181/181 [==============================] - 55s 302ms/step\n",
      "  2/167 [..............................] - ETA: 9sWARNING:tensorflow:Callbacks method `on_predict_batch_end` is slow compared to the batch time (batch time: 0.1021s vs `on_predict_batch_end` time: 0.3648s). Check your callbacks.\n",
      "167/167 [==============================] - 78s 465ms/step\n",
      "  2/181 [..............................] - ETA: 44sWARNING:tensorflow:Callbacks method `on_predict_batch_end` is slow compared to the batch time (batch time: 0.1122s vs `on_predict_batch_end` time: 0.3614s). Check your callbacks.\n",
      "181/181 [==============================] - 85s 467ms/step\n",
      "  2/167 [..............................] - ETA: 9sWARNING:tensorflow:Callbacks method `on_predict_batch_end` is slow compared to the batch time (batch time: 0.1053s vs `on_predict_batch_end` time: 0.2701s). Check your callbacks.\n",
      "167/167 [==============================] - 62s 372ms/step\n",
      "  2/181 [..............................] - ETA: 36sWARNING:tensorflow:Callbacks method `on_predict_batch_end` is slow compared to the batch time (batch time: 0.1088s vs `on_predict_batch_end` time: 0.2647s). Check your callbacks.\n",
      "181/181 [==============================] - 68s 373ms/step\n",
      "  2/167 [..............................] - ETA: 40sWARNING:tensorflow:Callbacks method `on_predict_batch_end` is slow compared to the batch time (batch time: 0.1083s vs `on_predict_batch_end` time: 0.3586s). Check your callbacks.\n",
      "167/167 [==============================] - 78s 465ms/step\n",
      "  2/181 [..............................] - ETA: 44sWARNING:tensorflow:Callbacks method `on_predict_batch_end` is slow compared to the batch time (batch time: 0.1109s vs `on_predict_batch_end` time: 0.3598s). Check your callbacks.\n",
      "181/181 [==============================] - 84s 465ms/step\n",
      "  2/167 [..............................] - ETA: 27sWARNING:tensorflow:Callbacks method `on_predict_batch_end` is slow compared to the batch time (batch time: 0.1082s vs `on_predict_batch_end` time: 0.1789s). Check your callbacks.\n",
      "167/167 [==============================] - 47s 283ms/step\n",
      "  2/181 [..............................] - ETA: 28sWARNING:tensorflow:Callbacks method `on_predict_batch_end` is slow compared to the batch time (batch time: 0.1015s vs `on_predict_batch_end` time: 0.1784s). Check your callbacks.\n",
      "181/181 [==============================] - 54s 299ms/step\n",
      "  2/167 [..............................] - ETA: 31sWARNING:tensorflow:Callbacks method `on_predict_batch_end` is slow compared to the batch time (batch time: 0.3634s vs `on_predict_batch_end` time: 0.7402s). Check your callbacks.\n",
      "167/167 [==============================] - 181s 1s/step\n",
      "  2/181 [..............................] - ETA: 1:36WARNING:tensorflow:Callbacks method `on_predict_batch_end` is slow compared to the batch time (batch time: 0.3701s vs `on_predict_batch_end` time: 0.7322s). Check your callbacks.\n",
      "181/181 [==============================] - 197s 1s/step\n"
     ]
    }
   ],
   "source": [
    "member1 = KerasMember(name=\"model1\", keras_model=model1, train_batches=train_data, val_batches=val_data)\n",
    "member2 = KerasMember(name=\"model2\", keras_model=model2, train_batches=train_data, val_batches=val_data)\n",
    "member3 = KerasMember(name=\"model3\", keras_model=model3, train_batches=train_data, val_batches=val_data)\n",
    "member4 = KerasMember(name=\"model4\", keras_model=model4, train_batches=train_data, val_batches=val_data)\n",
    "member5 = KerasMember(name=\"model5\", keras_model=model5, train_batches=train_data, val_batches=val_data)\n",
    "member6 = KerasMember(name=\"model6\", keras_model=model6, train_batches=train_data, val_batches=val_data)\n",
    "member7 = KerasMember(name=\"model7\", keras_model=model7, train_batches=train_data, val_batches=val_data)\n",
    "member8 = KerasMember(name=\"model8\", keras_model=model8, train_batches=train_data, val_batches=val_data)\n",
    "member9 = KerasMember(name=\"model9\", keras_model=model9, train_batches=train_data, val_batches=val_data)"
   ]
  },
  {
   "cell_type": "code",
   "execution_count": 7,
   "metadata": {},
   "outputs": [],
   "source": [
    "# Save Keras members\n",
    "if not os.path.exists(af_dir + 'trained_models/saved_models/ensemble_members'):\n",
    "    os.makedirs(af_dir + 'trained_models/saved_models/ensemble_members')\n",
    "member1.save(af_dir + 'trained_models/saved_models/ensemble_members')\n",
    "member2.save(af_dir + 'trained_models/saved_models/ensemble_members')\n",
    "member3.save(af_dir + 'trained_models/saved_models/ensemble_members')\n",
    "member4.save(af_dir + 'trained_models/saved_models/ensemble_members')\n",
    "member5.save(af_dir + 'trained_models/saved_models/ensemble_members')\n",
    "member6.save(af_dir + 'trained_models/saved_models/ensemble_members')\n",
    "member7.save(af_dir + 'trained_models/saved_models/ensemble_members')\n",
    "member8.save(af_dir + 'trained_models/saved_models/ensemble_members')\n",
    "member9.save(af_dir + 'trained_models/saved_models/ensemble_members')"
   ]
  },
  {
   "cell_type": "code",
   "execution_count": 11,
   "metadata": {},
   "outputs": [
    {
     "name": "stdout",
     "output_type": "stream",
     "text": [
      "Loaded model1\n",
      "Loaded model2\n",
      "Loaded model3\n",
      "Loaded model4\n",
      "Loaded model5\n",
      "Loaded model6\n",
      "Loaded model7\n",
      "Loaded model8\n",
      "Loaded model9\n"
     ]
    }
   ],
   "source": [
    "member1 = KerasMember.load(af_dir + 'trained_models/saved_models/ensemble_members/model1')\n",
    "member2 = KerasMember.load(af_dir + 'trained_models/saved_models/ensemble_members/model2')\n",
    "member3 = KerasMember.load(af_dir + 'trained_models/saved_models/ensemble_members/model3')\n",
    "member4 = KerasMember.load(af_dir + 'trained_models/saved_models/ensemble_members/model4')\n",
    "member5 = KerasMember.load(af_dir + 'trained_models/saved_models/ensemble_members/model5')\n",
    "member6 = KerasMember.load(af_dir + 'trained_models/saved_models/ensemble_members/model6')\n",
    "member7 = KerasMember.load(af_dir + 'trained_models/saved_models/ensemble_members/model7')\n",
    "member8 = KerasMember.load(af_dir + 'trained_models/saved_models/ensemble_members/model8')\n",
    "member9 = KerasMember.load(af_dir + 'trained_models/saved_models/ensemble_members/model9')"
   ]
  },
  {
   "cell_type": "markdown",
   "metadata": {},
   "source": [
    "# Fit weighted average ensemble"
   ]
  },
  {
   "cell_type": "code",
   "execution_count": 12,
   "metadata": {},
   "outputs": [
    {
     "name": "stdout",
     "output_type": "stream",
     "text": [
      "model1 - Weight: 0.0089 - roc_auc_score: 0.9912\n",
      "model2 - Weight: 0.1149 - roc_auc_score: 0.9917\n",
      "model3 - Weight: 0.1228 - roc_auc_score: 0.9923\n",
      "model4 - Weight: 0.0770 - roc_auc_score: 0.9923\n",
      "model5 - Weight: 0.0158 - roc_auc_score: 0.9909\n",
      "model6 - Weight: 0.0127 - roc_auc_score: 0.9900\n",
      "model7 - Weight: 0.1328 - roc_auc_score: 0.9926\n",
      "model8 - Weight: 0.0113 - roc_auc_score: 0.9894\n",
      "model9 - Weight: 0.5037 - roc_auc_score: 0.9933\n",
      "DirichletEnsemble roc_auc_score: 0.9941\n",
      "None\n",
      "Best weights: [0.00893805 0.11491145 0.12284052 0.07697425 0.01582984 0.0126988\n",
      " 0.13275678 0.01133924 0.50371107]\n"
     ]
    }
   ],
   "source": [
    "wAvgEnsemble = DirichletEnsemble()\n",
    "wAvgEnsemble.add_members([member1, member2, member3, member4, member5, member6, member7, member8, member9])\n",
    "wAvgEnsemble.fit()\n",
    "print(wAvgEnsemble.describe())\n",
    "print('Best weights:',wAvgEnsemble.bestweights)"
   ]
  },
  {
   "cell_type": "markdown",
   "metadata": {},
   "source": [
    "# Fit stacking ensemble"
   ]
  },
  {
   "cell_type": "code",
   "execution_count": 13,
   "metadata": {},
   "outputs": [
    {
     "name": "stdout",
     "output_type": "stream",
     "text": [
      "Calling predict\n",
      "model1 - roc_auc_score: 0.9912\n",
      "model2 - roc_auc_score: 0.9917\n",
      "model3 - roc_auc_score: 0.9923\n",
      "model4 - roc_auc_score: 0.9923\n",
      "model5 - roc_auc_score: 0.9909\n",
      "model6 - roc_auc_score: 0.9900\n",
      "model7 - roc_auc_score: 0.9926\n",
      "model8 - roc_auc_score: 0.9894\n",
      "model9 - roc_auc_score: 0.9933\n",
      "StackEnsemble roc_auc_score: 0.9924\n"
     ]
    },
    {
     "data": {
      "text/plain": [
       "0.9924405098140157"
      ]
     },
     "execution_count": 13,
     "metadata": {},
     "output_type": "execute_result"
    }
   ],
   "source": [
    "stack = StackEnsemble()\n",
    "stack.model = RandomForestRegressor(verbose=0, n_estimators=200, \n",
    "                                  max_depth=15, n_jobs=20, min_samples_split=20)\n",
    "stack.add_members([member1, member2, member3, member4, member5, member6, member7, member8, member9])\n",
    "stack.fit()\n",
    "stack.describe()"
   ]
  },
  {
   "cell_type": "code",
   "execution_count": 14,
   "metadata": {},
   "outputs": [
    {
     "name": "stdout",
     "output_type": "stream",
     "text": [
      "Calling predict\n",
      "model1 - Test Accuracy: 0.9711\n",
      "model2 - Test Accuracy: 0.9686\n",
      "model3 - Test Accuracy: 0.9674\n",
      "model4 - Test Accuracy: 0.9732\n",
      "model5 - Test Accuracy: 0.9716\n",
      "model6 - Test Accuracy: 0.9648\n",
      "model7 - Test Accuracy: 0.9696\n",
      "model8 - Test Accuracy: 0.9582\n",
      "model9 - Test Accuracy: 0.9786\n",
      "StackEnsemble Test Accuracy: 0.9812\n"
     ]
    },
    {
     "data": {
      "text/plain": [
       "0.9811746334692462"
      ]
     },
     "execution_count": 14,
     "metadata": {},
     "output_type": "execute_result"
    }
   ],
   "source": [
    "stack = StackEnsemble()\n",
    "stack.model = RandomForestRegressor(verbose=0, n_estimators=200, \n",
    "                                  max_depth=15, n_jobs=20, min_samples_split=20)\n",
    "stack.add_members([member1, member2, member3, member4, member5, member6, member7, member8, member9])\n",
    "stack.fit()\n",
    "stack.describe(metric='acc')"
   ]
  },
  {
   "cell_type": "code",
   "execution_count": 18,
   "metadata": {},
   "outputs": [],
   "source": [
    "# Save predictions for video conversion\n",
    "np.save(af_dir + 'trained_models/saved_models/ensemble_members/stack_preds', stack.predictions)"
   ]
  },
  {
   "cell_type": "markdown",
   "metadata": {},
   "source": [
    "# 3 Level Stacking"
   ]
  },
  {
   "cell_type": "code",
   "execution_count": 16,
   "metadata": {},
   "outputs": [
    {
     "name": "stdout",
     "output_type": "stream",
     "text": [
      "Calling predict\n",
      "model1 - roc_auc_score: 0.9912\n",
      "model2 - roc_auc_score: 0.9917\n",
      "model3 - roc_auc_score: 0.9923\n",
      "model4 - roc_auc_score: 0.9923\n",
      "model5 - roc_auc_score: 0.9909\n",
      "model6 - roc_auc_score: 0.9900\n",
      "model7 - roc_auc_score: 0.9926\n",
      "model8 - roc_auc_score: 0.9894\n",
      "model9 - roc_auc_score: 0.9933\n",
      "StackEnsemble roc_auc_score: 0.9808\n"
     ]
    },
    {
     "data": {
      "text/plain": [
       "0.9808322141483957"
      ]
     },
     "execution_count": 16,
     "metadata": {},
     "output_type": "execute_result"
    }
   ],
   "source": [
    "stack3 = StackEnsemble()\n",
    "\n",
    "# 2nd Level Meta-Learner\n",
    "estimators = [\n",
    "    ('rf', RandomForestClassifier(verbose=0, n_estimators=200, max_depth=15, n_jobs=20, min_samples_split=30)),\n",
    "    ('etr', ExtraTreesClassifier(verbose=0, n_estimators=200, max_depth=10, n_jobs=20, min_samples_split=20))\n",
    "]\n",
    "# 3rd Level Meta-Learner\n",
    "clf = StackingClassifier(\n",
    "    estimators=estimators, final_estimator=LogisticRegression()\n",
    ")\n",
    "\n",
    "stack3.model = clf\n",
    "stack3.add_members([member1, member2, member3, member4, member5, member6, member7, member8, member9])\n",
    "stack3.fit()\n",
    "stack3.describe()"
   ]
  },
  {
   "cell_type": "code",
   "execution_count": 19,
   "metadata": {},
   "outputs": [],
   "source": [
    "# Save predictions for video conversion\n",
    "np.save(af_dir + 'trained_models/saved_models/ensemble_members/stack_level_3_preds', stack3.predictions)"
   ]
  }
 ],
 "metadata": {
  "environment": {
   "name": "tf2-2-2-gpu.2-2.m50",
   "type": "gcloud",
   "uri": "gcr.io/deeplearning-platform-release/tf2-2-2-gpu.2-2:m50"
  },
  "kernelspec": {
   "display_name": "Python 3",
   "language": "python",
   "name": "python3"
  },
  "language_info": {
   "codemirror_mode": {
    "name": "ipython",
    "version": 3
   },
   "file_extension": ".py",
   "mimetype": "text/x-python",
   "name": "python",
   "nbconvert_exporter": "python",
   "pygments_lexer": "ipython3",
   "version": "3.7.6"
  }
 },
 "nbformat": 4,
 "nbformat_minor": 4
}
