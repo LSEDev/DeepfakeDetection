{
 "cells": [
  {
   "cell_type": "markdown",
   "metadata": {},
   "source": [
    "# Import Modules\n",
    "Have to restart kernel after installing DeepStack"
   ]
  },
  {
   "cell_type": "code",
   "execution_count": 1,
   "metadata": {},
   "outputs": [
    {
     "name": "stdout",
     "output_type": "stream",
     "text": [
      "Collecting git+https://github.com/qubvel/efficientnet\n",
      "  Cloning https://github.com/qubvel/efficientnet to /tmp/pip-req-build-hnvlg21q\n",
      "  Running command git clone -q https://github.com/qubvel/efficientnet /tmp/pip-req-build-hnvlg21q\n",
      "Requirement already satisfied (use --upgrade to upgrade): efficientnet==1.1.0 from git+https://github.com/qubvel/efficientnet in /opt/conda/lib/python3.7/site-packages\n",
      "Requirement already satisfied: keras_applications<=1.0.8,>=1.0.7 in /opt/conda/lib/python3.7/site-packages (from efficientnet==1.1.0) (1.0.8)\n",
      "Requirement already satisfied: scikit-image in /opt/conda/lib/python3.7/site-packages (from efficientnet==1.1.0) (0.17.2)\n",
      "Requirement already satisfied: numpy>=1.9.1 in /opt/conda/lib/python3.7/site-packages (from keras_applications<=1.0.8,>=1.0.7->efficientnet==1.1.0) (1.18.5)\n",
      "Requirement already satisfied: h5py in /opt/conda/lib/python3.7/site-packages (from keras_applications<=1.0.8,>=1.0.7->efficientnet==1.1.0) (2.10.0)\n",
      "Requirement already satisfied: scipy>=1.0.1 in /opt/conda/lib/python3.7/site-packages (from scikit-image->efficientnet==1.1.0) (1.4.1)\n",
      "Requirement already satisfied: matplotlib!=3.0.0,>=2.0.0 in /opt/conda/lib/python3.7/site-packages (from scikit-image->efficientnet==1.1.0) (3.2.2)\n",
      "Requirement already satisfied: networkx>=2.0 in /opt/conda/lib/python3.7/site-packages (from scikit-image->efficientnet==1.1.0) (2.4)\n",
      "Requirement already satisfied: pillow!=7.1.0,!=7.1.1,>=4.3.0 in /opt/conda/lib/python3.7/site-packages (from scikit-image->efficientnet==1.1.0) (7.1.2)\n",
      "Requirement already satisfied: imageio>=2.3.0 in /opt/conda/lib/python3.7/site-packages (from scikit-image->efficientnet==1.1.0) (2.8.0)\n",
      "Requirement already satisfied: tifffile>=2019.7.26 in /opt/conda/lib/python3.7/site-packages (from scikit-image->efficientnet==1.1.0) (2020.6.3)\n",
      "Requirement already satisfied: PyWavelets>=1.1.1 in /opt/conda/lib/python3.7/site-packages (from scikit-image->efficientnet==1.1.0) (1.1.1)\n",
      "Requirement already satisfied: six in /opt/conda/lib/python3.7/site-packages (from h5py->keras_applications<=1.0.8,>=1.0.7->efficientnet==1.1.0) (1.15.0)\n",
      "Requirement already satisfied: pyparsing!=2.0.4,!=2.1.2,!=2.1.6,>=2.0.1 in /opt/conda/lib/python3.7/site-packages (from matplotlib!=3.0.0,>=2.0.0->scikit-image->efficientnet==1.1.0) (2.4.7)\n",
      "Requirement already satisfied: python-dateutil>=2.1 in /opt/conda/lib/python3.7/site-packages (from matplotlib!=3.0.0,>=2.0.0->scikit-image->efficientnet==1.1.0) (2.8.1)\n",
      "Requirement already satisfied: kiwisolver>=1.0.1 in /opt/conda/lib/python3.7/site-packages (from matplotlib!=3.0.0,>=2.0.0->scikit-image->efficientnet==1.1.0) (1.2.0)\n",
      "Requirement already satisfied: cycler>=0.10 in /opt/conda/lib/python3.7/site-packages (from matplotlib!=3.0.0,>=2.0.0->scikit-image->efficientnet==1.1.0) (0.10.0)\n",
      "Requirement already satisfied: decorator>=4.3.0 in /opt/conda/lib/python3.7/site-packages (from networkx>=2.0->scikit-image->efficientnet==1.1.0) (4.4.2)\n",
      "Building wheels for collected packages: efficientnet\n",
      "  Building wheel for efficientnet (setup.py) ... \u001b[?25ldone\n",
      "\u001b[?25h  Created wheel for efficientnet: filename=efficientnet-1.1.0-py3-none-any.whl size=18397 sha256=31a37ff0a8a1522eb1a2ab2d3b6aca1353dd8f67ef553d222fa6bdfccccacdb1\n",
      "  Stored in directory: /tmp/pip-ephem-wheel-cache-9mfu2rba/wheels/11/69/85/814d64d694c96db0eef17b718042d644a1e54f113920481920\n",
      "Successfully built efficientnet\n"
     ]
    },
    {
     "name": "stderr",
     "output_type": "stream",
     "text": [
      "Using TensorFlow backend.\n"
     ]
    }
   ],
   "source": [
    "import numpy as np\n",
    "import pandas as pd\n",
    "import tensorflow as tf\n",
    "import tensorflow.keras\n",
    "from tensorflow.keras.models import load_model as kerasload\n",
    "from tensorflow.keras.preprocessing.image import ImageDataGenerator\n",
    "import sys\n",
    "\n",
    "af_dir = '../../all_faces_bucket/'\n",
    "disk_data_dir = '../../all_faces_disk/home/jupyter/compressed_forensics_split/'\n",
    "!pip install git+https://github.com/qubvel/efficientnet\n",
    "\n",
    "sys.path.insert(1, '/home/jupyter/DeepFake-2019-20/ensembles/DeepStack/deepstack')\n",
    "from base import *\n",
    "from ensemble import *\n",
    "import efficientnet.tfkeras\n",
    "import joblib\n",
    "import os\n",
    "import glob\n",
    "import sklearn\n",
    "from sklearn.ensemble import RandomForestRegressor\n",
    "from sklearn.metrics import accuracy_score\n",
    "from sklearn.linear_model import LogisticRegression\n",
    "from sklearn.ensemble import StackingClassifier\n",
    "from sklearn.ensemble import RandomForestClassifier\n",
    "from sklearn.ensemble import ExtraTreesClassifier\n",
    "# !sudo kill -9 PID # clear GPU memory where 9 is PID number\n",
    "# !watch -n0.1 nvidia-smi"
   ]
  },
  {
   "cell_type": "markdown",
   "metadata": {},
   "source": [
    "# Load models"
   ]
  },
  {
   "cell_type": "code",
   "execution_count": 2,
   "metadata": {},
   "outputs": [],
   "source": [
    "def get_model(config, network_type):\n",
    "    '''Loads one of the saved models based on specified config'''\n",
    "    \n",
    "    return kerasload(af_dir + 'trained_models/saved_models/ensemble_' + str(config) + '_' + network_type +'.h5')\n",
    "\n",
    "model1 = get_model(40,'B7')\n",
    "model2 = get_model(13,'B0')\n",
    "model3 = get_model(24,'B0')\n",
    "model4 = get_model(6,'B0')\n",
    "model5 = get_model(25,'B3')\n",
    "model6 = get_model(2,'B2')\n",
    "model7 = get_model(3,'B3')\n",
    "model8 = get_model(8,'B7')\n",
    "model9 = get_model(17,'b6')"
   ]
  },
  {
   "cell_type": "markdown",
   "metadata": {},
   "source": [
    "# Create image generators"
   ]
  },
  {
   "cell_type": "code",
   "execution_count": 3,
   "metadata": {},
   "outputs": [
    {
     "name": "stdout",
     "output_type": "stream",
     "text": [
      "Found 21291 images belonging to 2 classes.\n",
      "Found 23050 images belonging to 2 classes.\n"
     ]
    }
   ],
   "source": [
    "import cv2\n",
    "\n",
    "def perform_compression(x):\n",
    "    image_type = '.jpg'\n",
    "    quality_flag = cv2.IMWRITE_JPEG_QUALITY\n",
    "    quality = 20\n",
    "    _, encoded_x = cv2.imencode(image_type, x, (int(quality_flag), quality))\n",
    "    x = cv2.imdecode(encoded_x, cv2.IMREAD_UNCHANGED)\n",
    "    x = x.astype(float)\n",
    "    return x\n",
    "\n",
    "\n",
    "# Create data generators\n",
    "def augment_data(directory, batch):\n",
    "    '''Prepares train-time augmentation using given training and validations data)\n",
    "    \n",
    "    Returns train_data, val_data'''\n",
    "    \n",
    "    datagen1 = ImageDataGenerator(samplewise_center=True, samplewise_std_normalization=True,\n",
    "                                 preprocessing_function = perform_compression)\n",
    "    datagen2 = ImageDataGenerator(samplewise_center=True, samplewise_std_normalization=True)\n",
    "\n",
    "    # Classes give the folders storing the two different categories\n",
    "    train_data = datagen1.flow_from_directory('../../forensics_split' + '/validation',\n",
    "                                             target_size=(224,224), batch_size = batch, classes=['authentic','fake'])\n",
    "    \n",
    "    val_data = datagen2.flow_from_directory('../../compressed_forensics_split' + '/test',\n",
    "                                             target_size=(224,224), batch_size = batch, classes=['authentic','fake'])\n",
    "    \n",
    "    return train_data, val_data\n",
    "\n",
    "train_data, val_data = augment_data('../../forensics_split', batch=128)"
   ]
  },
  {
   "cell_type": "markdown",
   "metadata": {},
   "source": [
    "# Instantiate KerasMembers\n",
    "This will find all training and validation predictions. A fit method can then be applied to obtain to the members to create the ensemble."
   ]
  },
  {
   "cell_type": "code",
   "execution_count": 5,
   "metadata": {},
   "outputs": [
    {
     "name": "stdout",
     "output_type": "stream",
     "text": [
      "167/167 [==============================] - 238s 1s/step\n",
      "181/181 [==============================] - 258s 1s/step\n",
      "  2/167 [..............................] - ETA: 9sWARNING:tensorflow:Callbacks method `on_predict_batch_end` is slow compared to the batch time (batch time: 0.1123s vs `on_predict_batch_end` time: 0.1710s). Check your callbacks.\n",
      "167/167 [==============================] - 63s 378ms/step\n",
      "  2/181 [..............................] - ETA: 29sWARNING:tensorflow:Callbacks method `on_predict_batch_end` is slow compared to the batch time (batch time: 0.1067s vs `on_predict_batch_end` time: 0.1727s). Check your callbacks.\n",
      "181/181 [==============================] - 57s 312ms/step\n",
      "  2/167 [..............................] - ETA: 25sWARNING:tensorflow:Callbacks method `on_predict_batch_end` is slow compared to the batch time (batch time: 0.1101s vs `on_predict_batch_end` time: 0.1730s). Check your callbacks.\n",
      "167/167 [==============================] - 63s 378ms/step\n",
      "181/181 [==============================] - 57s 314ms/step\n",
      "  2/167 [..............................] - ETA: 26sWARNING:tensorflow:Callbacks method `on_predict_batch_end` is slow compared to the batch time (batch time: 0.1080s vs `on_predict_batch_end` time: 0.1711s). Check your callbacks.\n",
      "167/167 [==============================] - 63s 379ms/step\n",
      "181/181 [==============================] - 56s 309ms/step\n",
      "  2/167 [..............................] - ETA: 9sWARNING:tensorflow:Callbacks method `on_predict_batch_end` is slow compared to the batch time (batch time: 0.1129s vs `on_predict_batch_end` time: 0.3568s). Check your callbacks.\n",
      "167/167 [==============================] - 78s 464ms/step\n",
      "  2/181 [..............................] - ETA: 46sWARNING:tensorflow:Callbacks method `on_predict_batch_end` is slow compared to the batch time (batch time: 0.1154s vs `on_predict_batch_end` time: 0.3503s). Check your callbacks.\n",
      "181/181 [==============================] - 84s 465ms/step\n",
      "  2/167 [..............................] - ETA: 11sWARNING:tensorflow:Callbacks method `on_predict_batch_end` is slow compared to the batch time (batch time: 0.1302s vs `on_predict_batch_end` time: 0.2616s). Check your callbacks.\n",
      "167/167 [==============================] - 67s 399ms/step\n",
      "  2/181 [..............................] - ETA: 35sWARNING:tensorflow:Callbacks method `on_predict_batch_end` is slow compared to the batch time (batch time: 0.1088s vs `on_predict_batch_end` time: 0.2633s). Check your callbacks.\n",
      "181/181 [==============================] - 68s 373ms/step\n",
      "  2/167 [..............................] - ETA: 40sWARNING:tensorflow:Callbacks method `on_predict_batch_end` is slow compared to the batch time (batch time: 0.1145s vs `on_predict_batch_end` time: 0.3494s). Check your callbacks.\n",
      "167/167 [==============================] - 78s 465ms/step\n",
      "  2/181 [..............................] - ETA: 43sWARNING:tensorflow:Callbacks method `on_predict_batch_end` is slow compared to the batch time (batch time: 0.1117s vs `on_predict_batch_end` time: 0.3552s). Check your callbacks.\n",
      "181/181 [==============================] - 84s 465ms/step\n",
      "  2/167 [..............................] - ETA: 25sWARNING:tensorflow:Callbacks method `on_predict_batch_end` is slow compared to the batch time (batch time: 0.1074s vs `on_predict_batch_end` time: 0.1705s). Check your callbacks.\n",
      "167/167 [==============================] - 63s 377ms/step\n",
      "  2/181 [..............................] - ETA: 28sWARNING:tensorflow:Callbacks method `on_predict_batch_end` is slow compared to the batch time (batch time: 0.1093s vs `on_predict_batch_end` time: 0.1700s). Check your callbacks.\n",
      "181/181 [==============================] - 56s 310ms/step\n",
      "  2/167 [..............................] - ETA: 34sWARNING:tensorflow:Callbacks method `on_predict_batch_end` is slow compared to the batch time (batch time: 0.4078s vs `on_predict_batch_end` time: 0.6623s). Check your callbacks.\n",
      "167/167 [==============================] - 178s 1s/step\n",
      "  2/181 [..............................] - ETA: 1:32WARNING:tensorflow:Callbacks method `on_predict_batch_end` is slow compared to the batch time (batch time: 0.4066s vs `on_predict_batch_end` time: 0.6565s). Check your callbacks.\n",
      "181/181 [==============================] - 193s 1s/step\n"
     ]
    }
   ],
   "source": [
    "member1 = KerasMember(name=\"model1\", keras_model=model1, train_batches=train_data, val_batches=val_data)\n",
    "member2 = KerasMember(name=\"model2\", keras_model=model2, train_batches=train_data, val_batches=val_data)\n",
    "member3 = KerasMember(name=\"model3\", keras_model=model3, train_batches=train_data, val_batches=val_data)\n",
    "member4 = KerasMember(name=\"model4\", keras_model=model4, train_batches=train_data, val_batches=val_data)\n",
    "member5 = KerasMember(name=\"model5\", keras_model=model5, train_batches=train_data, val_batches=val_data)\n",
    "member6 = KerasMember(name=\"model6\", keras_model=model6, train_batches=train_data, val_batches=val_data)\n",
    "member7 = KerasMember(name=\"model7\", keras_model=model7, train_batches=train_data, val_batches=val_data)\n",
    "member8 = KerasMember(name=\"model8\", keras_model=model8, train_batches=train_data, val_batches=val_data)\n",
    "member9 = KerasMember(name=\"model9\", keras_model=model9, train_batches=train_data, val_batches=val_data)"
   ]
  },
  {
   "cell_type": "code",
   "execution_count": 6,
   "metadata": {},
   "outputs": [],
   "source": [
    "# Save Keras members\n",
    "if not os.path.exists(af_dir + 'trained_models/saved_models/newest_ensemble_members'):\n",
    "    os.makedirs(af_dir + 'trained_models/saved_models/newest_ensemble_members')\n",
    "member1.save(af_dir + 'trained_models/saved_models/newest_ensemble_members')\n",
    "member2.save(af_dir + 'trained_models/saved_models/newest_ensemble_members')\n",
    "member3.save(af_dir + 'trained_models/saved_models/newest_ensemble_members')\n",
    "member4.save(af_dir + 'trained_models/saved_models/newest_ensemble_members')\n",
    "member5.save(af_dir + 'trained_models/saved_models/newest_ensemble_members')\n",
    "member6.save(af_dir + 'trained_models/saved_models/newest_ensemble_members')\n",
    "member7.save(af_dir + 'trained_models/saved_models/newest_ensemble_members')\n",
    "member8.save(af_dir + 'trained_models/saved_models/newest_ensemble_members')\n",
    "member9.save(af_dir + 'trained_models/saved_models/newest_ensemble_members')"
   ]
  },
  {
   "cell_type": "code",
   "execution_count": 16,
   "metadata": {},
   "outputs": [
    {
     "name": "stdout",
     "output_type": "stream",
     "text": [
      "Loaded model1\n",
      "Loaded model2\n",
      "Loaded model3\n",
      "Loaded model4\n",
      "Loaded model5\n",
      "Loaded model6\n",
      "Loaded model7\n",
      "Loaded model8\n",
      "Loaded model9\n"
     ]
    }
   ],
   "source": [
    "member1 = KerasMember.load(af_dir + 'trained_models/saved_models/newest_ensemble_members/model1')\n",
    "member2 = KerasMember.load(af_dir + 'trained_models/saved_models/newest_ensemble_members/model2')\n",
    "member3 = KerasMember.load(af_dir + 'trained_models/saved_models/newest_ensemble_members/model3')\n",
    "member4 = KerasMember.load(af_dir + 'trained_models/saved_models/newest_ensemble_members/model4')\n",
    "member5 = KerasMember.load(af_dir + 'trained_models/saved_models/newest_ensemble_members/model5')\n",
    "member6 = KerasMember.load(af_dir + 'trained_models/saved_models/newest_ensemble_members/model6')\n",
    "member7 = KerasMember.load(af_dir + 'trained_models/saved_models/newest_ensemble_members/model7')\n",
    "member8 = KerasMember.load(af_dir + 'trained_models/saved_models/newest_ensemble_members/model8')\n",
    "member9 = KerasMember.load(af_dir + 'trained_models/saved_models/newest_ensemble_members/model9')"
   ]
  },
  {
   "cell_type": "markdown",
   "metadata": {},
   "source": [
    "# Fit stacking ensemble\n",
    "\n",
    "## Compressed training data"
   ]
  },
  {
   "cell_type": "code",
   "execution_count": 9,
   "metadata": {},
   "outputs": [
    {
     "name": "stdout",
     "output_type": "stream",
     "text": [
      "Calling predict\n",
      "model1 - roc_auc_score: 0.8278\n",
      "model2 - roc_auc_score: 0.7671\n",
      "model3 - roc_auc_score: 0.7596\n",
      "model4 - roc_auc_score: 0.8233\n",
      "model5 - roc_auc_score: 0.8467\n",
      "model6 - roc_auc_score: 0.7580\n",
      "model7 - roc_auc_score: 0.7453\n",
      "model8 - roc_auc_score: 0.7443\n",
      "model9 - roc_auc_score: 0.8530\n",
      "StackEnsemble roc_auc_score: 0.8511\n"
     ]
    },
    {
     "data": {
      "text/plain": [
       "0.8511359790530391"
      ]
     },
     "execution_count": 9,
     "metadata": {},
     "output_type": "execute_result"
    }
   ],
   "source": [
    "stack = StackEnsemble()\n",
    "stack.model = RandomForestRegressor(verbose=0, n_estimators=200, \n",
    "                                  max_depth=15, n_jobs=20, min_samples_split=20)\n",
    "stack.add_members([member1, member2, member3, member4, member5, member6, member7, member8, member9])\n",
    "stack.fit()\n",
    "stack.describe()"
   ]
  },
  {
   "cell_type": "code",
   "execution_count": 10,
   "metadata": {},
   "outputs": [
    {
     "name": "stdout",
     "output_type": "stream",
     "text": [
      "Calling predict\n",
      "model1 - Test Accuracy: 0.6412\n",
      "model2 - Test Accuracy: 0.6200\n",
      "model3 - Test Accuracy: 0.5849\n",
      "model4 - Test Accuracy: 0.6812\n",
      "model5 - Test Accuracy: 0.7193\n",
      "model6 - Test Accuracy: 0.5860\n",
      "model7 - Test Accuracy: 0.6439\n",
      "model8 - Test Accuracy: 0.5796\n",
      "model9 - Test Accuracy: 0.7601\n",
      "StackEnsemble Test Accuracy: 0.7724\n"
     ]
    },
    {
     "data": {
      "text/plain": [
       "0.7724078091106291"
      ]
     },
     "execution_count": 10,
     "metadata": {},
     "output_type": "execute_result"
    }
   ],
   "source": [
    "stack = StackEnsemble()\n",
    "stack.model = RandomForestRegressor(verbose=0, n_estimators=200, \n",
    "                                  max_depth=15, n_jobs=20, min_samples_split=20)\n",
    "stack.add_members([member1, member2, member3, member4, member5, member6, member7, member8, member9])\n",
    "stack.fit()\n",
    "stack.describe(metric='acc')"
   ]
  },
  {
   "cell_type": "code",
   "execution_count": 11,
   "metadata": {},
   "outputs": [],
   "source": [
    "# Save predictions for video conversion\n",
    "#np.save(af_dir + 'trained_models/saved_models/ensemble_members/stack_preds', stack.predictions)\n",
    "np.save(af_dir + 'trained_models/saved_models/ensemble_members/newest_stack_preds', stack.predictions)"
   ]
  }
 ],
 "metadata": {
  "environment": {
   "name": "tf2-2-2-gpu.2-2.m50",
   "type": "gcloud",
   "uri": "gcr.io/deeplearning-platform-release/tf2-2-2-gpu.2-2:m50"
  },
  "kernelspec": {
   "display_name": "Python 3",
   "language": "python",
   "name": "python3"
  },
  "language_info": {
   "codemirror_mode": {
    "name": "ipython",
    "version": 3
   },
   "file_extension": ".py",
   "mimetype": "text/x-python",
   "name": "python",
   "nbconvert_exporter": "python",
   "pygments_lexer": "ipython3",
   "version": "3.7.6"
  }
 },
 "nbformat": 4,
 "nbformat_minor": 4
}
