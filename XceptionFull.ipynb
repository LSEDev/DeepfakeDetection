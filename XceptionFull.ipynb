{
  "nbformat": 4,
  "nbformat_minor": 0,
  "metadata": {
    "colab": {
      "name": "XceptionFull.ipynb",
      "provenance": [],
      "collapsed_sections": [],
      "authorship_tag": "ABX9TyNUBcb+ot11yhz8UVqkutpK",
      "include_colab_link": true
    },
    "kernelspec": {
      "name": "python3",
      "display_name": "Python 3"
    },
    "accelerator": "GPU"
  },
  "cells": [
    {
      "cell_type": "markdown",
      "metadata": {
        "id": "view-in-github",
        "colab_type": "text"
      },
      "source": [
        "<a href=\"https://colab.research.google.com/github/lse-st498/DeepFake-2019-20/blob/master/XceptionFull.ipynb\" target=\"_parent\"><img src=\"https://colab.research.google.com/assets/colab-badge.svg\" alt=\"Open In Colab\"/></a>"
      ]
    },
    {
      "cell_type": "code",
      "metadata": {
        "id": "82S8VS0uA_Wz",
        "colab_type": "code",
        "outputId": "f9aca5f7-12c9-4610-fbec-2be90db62a36",
        "colab": {
          "base_uri": "https://localhost:8080/",
          "height": 68
        }
      },
      "source": [
        "%tensorflow_version 2.x\n",
        "import tensorflow as tf\n",
        "print(tf.__version__)\n",
        "from __future__ import print_function\n",
        "import tensorflow.keras\n",
        "from tensorflow.keras.datasets import cifar10\n",
        "from tensorflow.keras.preprocessing.image import ImageDataGenerator\n",
        "from tensorflow.keras.models import Sequential, load_model\n",
        "from tensorflow.keras.layers import Dense, Dropout, Activation, Flatten, GlobalAveragePooling2D\n",
        "from tensorflow.keras.layers import Conv2D, MaxPooling2D\n",
        "from sklearn.model_selection import train_test_split\n",
        "import os\n",
        "from tensorflow.keras.callbacks import *\n",
        "import numpy as np\n",
        "from matplotlib import pyplot as plt\n",
        "from IPython.display import clear_output\n",
        "import pickle\n",
        "\n",
        "# Mount Google Drive\n",
        "from google.colab import drive\n",
        "drive.mount('/content/gdrive')\n",
        "\n",
        "# The below code allows us to import functions from python files\n",
        "from pydrive.auth import GoogleAuth\n",
        "from pydrive.drive import GoogleDrive\n",
        "from google.colab import auth\n",
        "from oauth2client.client import GoogleCredentials\n",
        "\n",
        "auth.authenticate_user()\n",
        "gauth = GoogleAuth()\n",
        "gauth.credentials = GoogleCredentials.get_application_default()\n",
        "drive = GoogleDrive(gauth)\n",
        "\n",
        "vis_tools = drive.CreateFile({'id':'1Pj2xsMXrEUgSjdJ65jecC5WXB2jy5sw8'})\n",
        "vis_tools.GetContentFile('VisualisationTools.py')\n",
        "import VisualisationTools\n",
        "plot_losses = VisualisationTools.PlotLearning()"
      ],
      "execution_count": 2,
      "outputs": [
        {
          "output_type": "stream",
          "text": [
            "TensorFlow 2.x selected.\n",
            "2.1.0\n",
            "Drive already mounted at /content/gdrive; to attempt to forcibly remount, call drive.mount(\"/content/gdrive\", force_remount=True).\n"
          ],
          "name": "stdout"
        }
      ]
    },
    {
      "cell_type": "code",
      "metadata": {
        "id": "Ge0yjG4vkciA",
        "colab_type": "code",
        "colab": {}
      },
      "source": [
        "import cv2\n",
        "import glob\n",
        "\n",
        "path = \"/content/gdrive/My Drive/Deepfakes Capstone Project\"\n",
        "\n",
        "def get_images(path):\n",
        "  '''Outputs a tensor of image pixels in a specificied path as well as a count\n",
        "  of the non-manipualted images\n",
        "  Resizes images to all be the same size'''\n",
        "\n",
        "  image_data_list = []\n",
        "  ori_count=0\n",
        "  for i in ['original_sequences', 'manipulated_sequences']:\n",
        "    for j in glob.glob(path + '/' + i + '/*'):\n",
        "      for each_img in glob.glob(j + '/*'):\n",
        "        input_img = cv2.imread(each_img)\n",
        "        input_img_resize=cv2.resize(input_img,(71,71)) # for future modification\n",
        "        image_data_list.append(input_img_resize)\n",
        "        if i=='original_sequences':\n",
        "          ori_count+=1\n",
        "    \n",
        "  return np.array(image_data_list), ori_count\n",
        "\n",
        "x_data, ori_count = get_images(path)\n",
        "\n",
        "# Save image tensors to disk\n",
        "with open(path + '/DeepFake-2019-20/image_tensors.pickle', 'wb') as handle:\n",
        "    pickle.dump(x_data, handle, protocol=pickle.HIGHEST_PROTOCOL)\n",
        "\n",
        "# Save ori count to disk\n",
        "with open(path + '/DeepFake-2019-20/ori_count.pickle', 'wb') as handle:\n",
        "    pickle.dump(ori_count, handle, protocol=pickle.HIGHEST_PROTOCOL)"
      ],
      "execution_count": 0,
      "outputs": []
    },
    {
      "cell_type": "code",
      "metadata": {
        "id": "EFX6WiGffLrR",
        "colab_type": "code",
        "colab": {}
      },
      "source": [
        "# Load image tensors\n",
        "\n",
        "path = \"/content/gdrive/My Drive/Deepfakes Capstone Project\"\n",
        "\n",
        "with open(path + '/DeepFake-2019-20/image_tensors.pickle', 'rb') as handle:\n",
        "  x_data = pickle.load(handle)\n",
        "\n",
        "with open(path + '/DeepFake-2019-20/ori_count.pickle', 'rb') as handle:\n",
        "  ori_count = pickle.load(handle)\n",
        "\n",
        "# Specify the parameters and process the data\n",
        "batch_size = 32\n",
        "epochs = 40\n",
        "data_augmentation = True\n",
        "\n",
        "# Normalise data \n",
        "x_data = x_data.astype('float32')\n",
        "x_data /= 255\n",
        "manip_count = x_data.shape[0]-ori_count\n",
        "y_data = np.append(np.array([0]*ori_count), np.array([1]*manip_count))\n",
        "y_data.shape\n",
        "x_train, x_test, y_train, y_test = train_test_split(x_data, y_data, test_size=0.33)\n",
        "y_train = tf.keras.utils.to_categorical(y_train, 2)\n",
        "y_test = tf.keras.utils.to_categorical(y_test, 2)"
      ],
      "execution_count": 0,
      "outputs": []
    },
    {
      "cell_type": "code",
      "metadata": {
        "id": "OQe5_JrYBH3r",
        "colab_type": "code",
        "outputId": "1c4396b9-3a85-43cb-9578-57724775cb6f",
        "colab": {
          "base_uri": "https://localhost:8080/",
          "height": 333
        }
      },
      "source": [
        "# Train all parameters of Xception\n",
        "from tensorflow.keras.applications.xception import Xception\n",
        "\n",
        "conv_base = Xception(weights='imagenet', include_top=False,\n",
        "                     input_shape=(71, 71, 3))\n",
        "model = Sequential()\n",
        "model.add(conv_base)\n",
        "model.add(Flatten())\n",
        "model.add(Dense(1000, activation='relu'))\n",
        "model.add(Dropout(0.5))\n",
        "model.add(Dense(2, activation='softmax'))\n",
        "\n",
        "# Save weights\n",
        "filepath=\"/content/gdrive/My Drive/Deepfakes Capstone \\\n",
        "Project/SavedWeights/Xception/epochs:{epoch:03d}-val_accuracy:{val_accuracy:.3f}.hdf5\"\n",
        "checkpoint = ModelCheckpoint(filepath, monitor='val_accuracy', \n",
        "                             verbose=1, save_best_only=True, mode='max')\n",
        "\n",
        "# # Load weights\n",
        "# model.load_weights(\"/content/gdrive/My Drive/Deepfakes Capstone \\\n",
        "# Project/SavedWeights/ResNetAllLayers/epochs:024-val_acc:0.748.hdf5\")\n",
        "\n",
        "# NEED TO USE THE LEARNING RATE SCHEDULER BELOW\n",
        "# ALSO ADD A GLOBAL AVERAGE POOLING LAYER WHICH WILL BE LESS EXPENSIVE THAN\n",
        "# A DENSE LAYER AT THE END BUT WILL WORK AS WELL\n",
        "# lr decay function\n",
        "# def lr_decay(epoch):\n",
        "#   return 0.01 * math.pow(0.6, epoch)\n",
        "\n",
        "# # lr schedule callback\n",
        "# lr_decay_callback = tf.keras.callbacks.LearningRateScheduler(lr_decay, verbose=True)\n",
        "\n",
        "# # important to see what you are doing\n",
        "# plot_learning_rate(lr_decay, EPOCHS)\n",
        "\n",
        "opt = tf.keras.optimizers.Adam(learning_rate=0.0001, decay=1e-6)\n",
        "\n",
        "# Let's train the model using Adam\n",
        "model.compile(loss='categorical_crossentropy',\n",
        "              optimizer=opt,\n",
        "              metrics=['accuracy'])\n",
        "\n",
        "if not data_augmentation:\n",
        "    print('Not using data augmentation.')\n",
        "    model.fit(x_train, y_train,\n",
        "              batch_size=batch_size,\n",
        "              epochs=epochs,\n",
        "              validation_data=(x_test, y_test),\n",
        "              shuffle=True,\n",
        "              callbacks=[plot_losses, checkpoint])\n",
        "else:\n",
        "    print('Using real-time data augmentation.')\n",
        "    # This will do preprocessing and realtime data augmentation:\n",
        "    datagen = ImageDataGenerator(\n",
        "        featurewise_center=False,  # set input mean to 0 over the dataset\n",
        "        samplewise_center=False,  # set each sample mean to 0\n",
        "        featurewise_std_normalization=False,  # divide inputs by std of the dataset\n",
        "        samplewise_std_normalization=False,  # divide each input by its std\n",
        "        zca_whitening=False,  # apply ZCA whitening\n",
        "        zca_epsilon=1e-06,  # epsilon for ZCA whitening\n",
        "        rotation_range=0,  # randomly rotate images in the range (degrees, 0 to 180)\n",
        "        # randomly shift images horizontally (fraction of total width)\n",
        "        width_shift_range=0.1,\n",
        "        # randomly shift images vertically (fraction of total height)\n",
        "        height_shift_range=0.1,\n",
        "        shear_range=0.,  # set range for random shear\n",
        "        zoom_range=0.,  # set range for random zoom\n",
        "        channel_shift_range=0.,  # set range for random channel shifts\n",
        "        # set mode for filling points outside the input boundaries\n",
        "        fill_mode='nearest',\n",
        "        cval=0.,  # value used for fill_mode = \"constant\"\n",
        "        horizontal_flip=True,  # randomly flip images\n",
        "        vertical_flip=False,  # randomly flip images\n",
        "        # set rescaling factor (applied before any other transformation)\n",
        "        rescale=None,\n",
        "        # set function that will be applied on each input\n",
        "        preprocessing_function=None,\n",
        "        # image data format, either \"channels_first\" or \"channels_last\"\n",
        "        data_format=None,\n",
        "        # fraction of images reserved for validation (strictly between 0 and 1)\n",
        "        validation_split=0.0)\n",
        "\n",
        "    # Compute quantities required for feature-wise normalization\n",
        "    # (std, mean, and principal components if ZCA whitening is applied).\n",
        "    datagen.fit(x_train)\n",
        "\n",
        "    # Fit the model on the batches generated by datagen.flow().\n",
        "    model.fit(datagen.flow(x_train, y_train, batch_size=batch_size),\n",
        "              epochs=epochs,\n",
        "              validation_data=(x_test, y_test),\n",
        "              workers=4,\n",
        "              callbacks=[plot_losses])\n",
        "\n",
        "# Score trained model.\n",
        "scores = model.evaluate(x_test, y_test, verbose=1)\n",
        "print('Test loss:', scores[0])\n",
        "print('Test accuracy:', scores[1])"
      ],
      "execution_count": 4,
      "outputs": [
        {
          "output_type": "display_data",
          "data": {
            "image/png": "[encoded data removed]",
            "text/plain": [
              "<Figure size 432x288 with 2 Axes>"
            ]
          },
          "metadata": {
            "tags": []
          }
        },
        {
          "output_type": "stream",
          "text": [
            "33/33 [==============================] - 4s 117ms/step - loss: 0.1731 - accuracy: 0.9325 - val_loss: 0.7525 - val_accuracy: 0.7949\n",
            "512/512 [==============================] - 0s 596us/sample - loss: 0.7525 - accuracy: 0.7949\n",
            "Test loss: 0.7524901628494263\n",
            "Test accuracy: 0.7949219\n"
          ],
          "name": "stdout"
        }
      ]
    },
    {
      "cell_type": "code",
      "metadata": {
        "id": "Rqhcl3UGEfug",
        "colab_type": "code",
        "colab": {}
      },
      "source": [
        ""
      ],
      "execution_count": 0,
      "outputs": []
    }
  ]
}