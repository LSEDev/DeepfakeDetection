{
 "cells": [
  {
   "cell_type": "markdown",
   "metadata": {},
   "source": [
    "# Predictions"
   ]
  },
  {
   "cell_type": "code",
   "execution_count": null,
   "metadata": {},
   "outputs": [],
   "source": [
    "def load_test_model(x, df, dropout = 0.5, architecture = 'vgg',\n",
    "          lr_rate = 0.0001, soft = True, threshold = 0.5, fraction = 1):\n",
    "    '''An alternative to build_train_test_model function, except that \n",
    "    instead of training optimal weights are loaded from an appropriate folder\n",
    "    (this shortcut also eliminates the need for train-time augmentation).\n",
    "    \n",
    "    if there are no weights, function does not crush and returns an original\n",
    "    built model with a warning message that no weights were loaded.\n",
    "    '''\n",
    "\n",
    "    # build a model and load best weights\n",
    "    model = build_model(x, dropout, lr_rate, architecture)\n",
    "    trained_model = load_model_weights(model, architecture)\n",
    "\n",
    "    # predict labels per image\n",
    "    labels_pred = get_image_predictions(trained_model, x, soft)\n",
    "    # convert predictions per video\n",
    "    new_df = convert_predictions(df, labels_pred, threshold, fraction)\n",
    "\n",
    "    # regroup by train/test category (and method)\n",
    "    acc_per_method = new_df.groupby(['test/train', 'method'])['acc'].mean()\n",
    "    acc_total = new_df.groupby(['test/train'])['acc'].mean()\n",
    "    display(acc_per_method)\n",
    "    print(\"\\n\")\n",
    "    display(acc_total)\n",
    "\n",
    "    return acc_per_method, acc_total"
   ]
  }
 ],
 "metadata": {
  "environment": {
   "name": "tf2-2-2-gpu.2-2.m49",
   "type": "gcloud",
   "uri": "gcr.io/deeplearning-platform-release/tf2-2-2-gpu.2-2:m49"
  },
  "kernelspec": {
   "display_name": "Python 3",
   "language": "python",
   "name": "python3"
  },
  "language_info": {
   "codemirror_mode": {
    "name": "ipython",
    "version": 3
   },
   "file_extension": ".py",
   "mimetype": "text/x-python",
   "name": "python",
   "nbconvert_exporter": "python",
   "pygments_lexer": "ipython3",
   "version": "3.7.6"
  }
 },
 "nbformat": 4,
 "nbformat_minor": 4
}
