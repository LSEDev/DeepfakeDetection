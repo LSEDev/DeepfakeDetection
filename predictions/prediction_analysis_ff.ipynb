{
 "cells": [
  {
   "cell_type": "markdown",
   "metadata": {
    "colab": {},
    "colab_type": "code",
    "id": "fveKC1NzY8lL"
   },
   "source": [
    "# Set Up\n",
    "\n",
    "Note: af_dir and disk_data_dir are modified."
   ]
  },
  {
   "cell_type": "code",
   "execution_count": 1,
   "metadata": {},
   "outputs": [],
   "source": [
    "import numpy as np\n",
    "import pandas as pd\n",
    "import os\n",
    "import math # required for prediction conversion\n",
    "\n",
    "import tensorflow as tf\n",
    "import tensorflow.keras\n",
    "from tensorflow.keras.models import load_model\n",
    "from tensorflow.keras.preprocessing.image import ImageDataGenerator\n",
    "\n",
    "af_dir = '../../all_faces_bucket/'\n",
    "disk_data_dir = '../../all_faces_disk/home/jupyter/forensics_split/'"
   ]
  },
  {
   "cell_type": "markdown",
   "metadata": {},
   "source": [
    "# Functions\n",
    "\n",
    "**Note: Save time by only running the cells with functions but leaving the others -- they are there for you to see the intermediate steps.**\n",
    "\n",
    "## Predict Labels for Test Images"
   ]
  },
  {
   "cell_type": "code",
   "execution_count": 2,
   "metadata": {
    "colab": {},
    "colab_type": "code",
    "id": "vrsAPTF9Y8m_"
   },
   "outputs": [],
   "source": [
    "# Need to load model to CPU if GPU is busy training\n",
    "# with tf.device('/cpu:0'):\n",
    "#     loaded_model = load_model(af_dir + 'trained_models/saved_models/' + architecture + '_model.h5')\n",
    "\n",
    "def get_model(architecture):\n",
    "    '''Loads one of the saved models based on specified architecture\n",
    "    (vgg, resnet50, mobilenet or xception)'''\n",
    "    \n",
    "    return load_model(af_dir + 'trained_models/saved_models/' + architecture + '_model.h5')\n",
    "\n",
    "def get_multidim_predictions(model):\n",
    "    '''Takes in a loaded model and outputs filenames and multi-dimensional\n",
    "    predictions for each class.\n",
    "    \n",
    "    Works by initiating an instance of ImageDataGenerator which is used for\n",
    "    flow_from_directory method.'''\n",
    "    # normalise and centre test data\n",
    "    datagen = ImageDataGenerator(samplewise_std_normalization=True, samplewise_center=True)\n",
    "    generator = datagen.flow_from_directory(disk_data_dir + 'test', target_size=(224, 224),\n",
    "                                            shuffle = False, batch_size=1)\n",
    "    filenames = generator.filenames\n",
    "    nb_samples = len(filenames)\n",
    "    generator.reset() # figure out this \n",
    "    predictions = model.predict(generator, steps = nb_samples, verbose=1, workers=8)\n",
    "    \n",
    "    return filenames, predictions"
   ]
  },
  {
   "cell_type": "code",
   "execution_count": 3,
   "metadata": {},
   "outputs": [
    {
     "name": "stdout",
     "output_type": "stream",
     "text": [
      "Found 23054 images belonging to 2 classes.\n",
      "23054/23054 [==============================] - 152s 7ms/step\n"
     ]
    }
   ],
   "source": [
    "loaded_model = get_model('mobilenet_new')\n",
    "filenames, multidim_predictions = get_multidim_predictions(loaded_model)"
   ]
  },
  {
   "cell_type": "code",
   "execution_count": 4,
   "metadata": {
    "colab": {},
    "colab_type": "code",
    "id": "ywxwKFvuY8nc"
   },
   "outputs": [],
   "source": [
    "def get_image_predictions(arr, soft=True):\n",
    "    '''Obtains image predictions.\n",
    "    soft: a true value returns probabilities as opposed to hard predictions.'''\n",
    "\n",
    "    if soft:\n",
    "        # probability of belonging to fake (second) class,\n",
    "        # hence return second value for each element in the list\n",
    "        return [el[1] for el in arr]\n",
    "    # returns a list of 0's and 1's\n",
    "    return np.argmax(arr, axis=1)"
   ]
  },
  {
   "cell_type": "code",
   "execution_count": 5,
   "metadata": {},
   "outputs": [
    {
     "name": "stdout",
     "output_type": "stream",
     "text": [
      "['authentic/Original_000_0150.png', 'authentic/Original_000_0165.png', 'authentic/Original_000_0180.png']\n",
      "[0.9997267, 0.05420502, 0.0054824506]\n"
     ]
    }
   ],
   "source": [
    "predictions = get_image_predictions(multidim_predictions, soft=True)\n",
    "print(filenames[10:13])\n",
    "print(predictions[10:13])"
   ]
  },
  {
   "cell_type": "markdown",
   "metadata": {},
   "source": [
    "## Building Information Storage"
   ]
  },
  {
   "cell_type": "code",
   "execution_count": 6,
   "metadata": {},
   "outputs": [],
   "source": [
    "def build_dataframe(filenames):\n",
    "    index = range(len(filenames))\n",
    "    df = pd.DataFrame(index = index, columns = ['method', 'video', 'image', 'test/train', 'true label',\n",
    "                                                  'probability', 'predicted label', 'acc'])\n",
    "    df = df.fillna(0)\n",
    "    methods = [el[el.find('/')+1: el.find('_')] for el in filenames]\n",
    "    video_numbers = [el[el.find('_')+1: el.rfind('_')] for el in filenames]\n",
    "    # video_numbers = [re.search(\"_(.*?)\\_\", el).group(1) for el in filenames] # older version -- does not include second video name for fake videos\n",
    "    image_numbers = [el[el.find('_')+1: el.find('.')][4:] for el in filenames]\n",
    "    true_labels = [0 if el[0] == 'a' else 1 for el in filenames]\n",
    "    \n",
    "    df['method'] = methods\n",
    "    df['video'] =  video_numbers\n",
    "    df['image'] =  image_numbers\n",
    "    df['true label'] = true_labels\n",
    "    df['test/train'] = ['test']*len(filenames)\n",
    "    df['probability'] = predictions\n",
    "    df['predicted label'] = ['-']*len(filenames)\n",
    "    df['acc'] = ['-']*len(filenames)\n",
    "    \n",
    "    return df"
   ]
  },
  {
   "cell_type": "code",
   "execution_count": 7,
   "metadata": {},
   "outputs": [
    {
     "data": {
      "text/html": [
       "<div>\n",
       "<style scoped>\n",
       "    .dataframe tbody tr th:only-of-type {\n",
       "        vertical-align: middle;\n",
       "    }\n",
       "\n",
       "    .dataframe tbody tr th {\n",
       "        vertical-align: top;\n",
       "    }\n",
       "\n",
       "    .dataframe thead th {\n",
       "        text-align: right;\n",
       "    }\n",
       "</style>\n",
       "<table border=\"1\" class=\"dataframe\">\n",
       "  <thead>\n",
       "    <tr style=\"text-align: right;\">\n",
       "      <th></th>\n",
       "      <th>method</th>\n",
       "      <th>video</th>\n",
       "      <th>image</th>\n",
       "      <th>test/train</th>\n",
       "      <th>true label</th>\n",
       "      <th>probability</th>\n",
       "      <th>predicted label</th>\n",
       "      <th>acc</th>\n",
       "    </tr>\n",
       "  </thead>\n",
       "  <tbody>\n",
       "    <tr>\n",
       "      <th>10</th>\n",
       "      <td>Original</td>\n",
       "      <td>000</td>\n",
       "      <td>0150</td>\n",
       "      <td>test</td>\n",
       "      <td>0</td>\n",
       "      <td>0.999727</td>\n",
       "      <td>-</td>\n",
       "      <td>-</td>\n",
       "    </tr>\n",
       "    <tr>\n",
       "      <th>11</th>\n",
       "      <td>Original</td>\n",
       "      <td>000</td>\n",
       "      <td>0165</td>\n",
       "      <td>test</td>\n",
       "      <td>0</td>\n",
       "      <td>0.054205</td>\n",
       "      <td>-</td>\n",
       "      <td>-</td>\n",
       "    </tr>\n",
       "    <tr>\n",
       "      <th>12</th>\n",
       "      <td>Original</td>\n",
       "      <td>000</td>\n",
       "      <td>0180</td>\n",
       "      <td>test</td>\n",
       "      <td>0</td>\n",
       "      <td>0.005482</td>\n",
       "      <td>-</td>\n",
       "      <td>-</td>\n",
       "    </tr>\n",
       "  </tbody>\n",
       "</table>\n",
       "</div>"
      ],
      "text/plain": [
       "      method video image test/train  true label  probability predicted label  \\\n",
       "10  Original   000  0150       test           0     0.999727               -   \n",
       "11  Original   000  0165       test           0     0.054205               -   \n",
       "12  Original   000  0180       test           0     0.005482               -   \n",
       "\n",
       "   acc  \n",
       "10   -  \n",
       "11   -  \n",
       "12   -  "
      ]
     },
     "metadata": {},
     "output_type": "display_data"
    }
   ],
   "source": [
    "data = build_dataframe(filenames)\n",
    "display(data[10:13])"
   ]
  },
  {
   "cell_type": "markdown",
   "metadata": {},
   "source": [
    "## Conversion to Video Predictions\n",
    "\n",
    "Next cell contains three functions which are all options for combining image predictions and converting those into a single video prediction. Fraction method considers only a fraction of higest image predictions (useful when only a fraction of video has been manipulated), ConfidentStrategy takes a mean of a subset of predictions depending on popularity of each of the two classes, and Transform makes each prediction more extreme (pushed towards 0.0 or 1.0 depending on its original value) before taking a mean."
   ]
  },
  {
   "cell_type": "code",
   "execution_count": 29,
   "metadata": {},
   "outputs": [],
   "source": [
    "def get_mean_of_a_fraction(lst, fraction = 1.0):\n",
    "    '''Takes in a list and outputs a mean of the fraction of the largest\n",
    "    elements for that list (by default (fraction is 1) == consider all predictions)\n",
    "        \n",
    "    if fraction equals to 1, the output is simply a mean.\n",
    "        \n",
    "    This mimics considering only the top third highest probabilities for\n",
    "    images for a given video to classify that video. The main idea is\n",
    "    that if a given video has only a fraction of it being manipulated\n",
    "    (unknown information) then it's likely to be wrongly classfied as original\n",
    "    if we average all associated probabilities, however, if we take only a\n",
    "    certain number of highest proabilities that will be much more representative\n",
    "    and overall robust.'''\n",
    "        \n",
    "    sorted_lst = sorted(lst)[::-1] if type(lst) == list else [lst]\n",
    "    sliced_lst = sorted_lst[0:math.ceil(len(lst)*fraction)] if fraction != (1 or 1.0) else sorted_lst\n",
    "    return np.mean(sliced_lst)\n",
    "\n",
    "def get_mean_with_confident_strategy(lst, fraction = 0.75, t = 0.5):\n",
    "    '''Confident strategy is implemented from first-place solution in DFDC.\n",
    "    \n",
    "    The main idea is that if there are a lot of predictions for one class,\n",
    "    then the average is taken of those predictions only. If that's not the\n",
    "    case, then a simple mean is outputted.\n",
    "    \n",
    "    Inputs:\n",
    "    1. list of predictions (converted to a list if it's a single prediction)\n",
    "    2. fraction -- (between 0 and 1) what fraction of the list should predict\n",
    "    the same class for other predictions to be disregarded when taking a mean\n",
    "    3. t -- threshold cutoff value between two classes (note: whole notebook\n",
    "    is structured for a binary classification problem only)'''\n",
    "    \n",
    "    lst = np.array(lst)\n",
    "    num_pred = len(lst)\n",
    "    num_fakes = np.count_nonzero(lst >= t)\n",
    "    num_authentic = num_pred - num_fakes\n",
    "\n",
    "    # if number of fakes is more that 75% of all predictions \n",
    "    if num_fakes > int(num_pred * fraction):\n",
    "        # take predictions which are greater than threshold and average them\n",
    "        return np.mean(lst[lst >= t])\n",
    "\n",
    "    # else if number of predictions below threshold value t is more that 75%\n",
    "    # of all predictions\n",
    "    elif num_authentic > int(num_pred * fraction):\n",
    "        # take these predictions and return their mean\n",
    "        return np.mean(lst[lst < t])\n",
    "  \n",
    "    else: # simple mean\n",
    "        return np.mean(lst)\n",
    "    \n",
    "def get_mean_of_transformed_predictions(lst):\n",
    "    '''Takes a list of predictions, transforms them by individually\n",
    "    pushing the values away from the centre (0.5) closer towards the\n",
    "    extremes (0.0 and 1.0). The visualisation is included below.\n",
    "    \n",
    "    Returns a mean of transformed predictions.'''\n",
    "\n",
    "    if type(lst) != list: lst = [lst]\n",
    "    weights = np.power([abs(el -0.5) for el in lst], 1.0) + 1e-4\n",
    "    return float((lst * weights).sum() / weights.sum())"
   ]
  },
  {
   "cell_type": "markdown",
   "metadata": {},
   "source": [
    "Quick visualisation of the transformation, which each individual image prediction undergoes in the Transform approach."
   ]
  },
  {
   "cell_type": "code",
   "execution_count": 9,
   "metadata": {},
   "outputs": [
    {
     "data": {
      "image/png": "[encoded data removed]",
      "text/plain": [
       "<Figure size 432x288 with 1 Axes>"
      ]
     },
     "metadata": {
      "needs_background": "light"
     },
     "output_type": "display_data"
    }
   ],
   "source": [
    "############################################################################\n",
    "# Illustration of the transformation for a single prediction\n",
    "# used in get_mean_of_transformed_predictions\n",
    "def transform(prob, t = 0.15):\n",
    "    if prob == 0.5:\n",
    "        return 0.5\n",
    "    elif prob <= t:\n",
    "        return 0.0\n",
    "    elif prob >= (1-t):\n",
    "        return 1.0\n",
    "    elif prob > t and prob < 0.5:\n",
    "        return 0.5 - np.power(abs(prob-0.5), 0.65)\n",
    "    elif prob < (1-t) and prob > 0.5:\n",
    "        return 0.5 + np.power(abs(prob-0.5), 0.65)\n",
    "\n",
    "pred = range(0, 101)\n",
    "pred = [el/100 for el in pred]\n",
    "transformed = [transform(el) for el in pred]\n",
    "\n",
    "import matplotlib.pyplot as plt\n",
    "plt.plot(pred, pred);\n",
    "plt.plot(pred, transformed);\n",
    "plt.xlabel(\"Original prediction\", fontsize = 12);\n",
    "plt.ylabel(\"Transformed prediction\", fontsize = 12);\n",
    "############################################################################"
   ]
  },
  {
   "cell_type": "code",
   "execution_count": 10,
   "metadata": {},
   "outputs": [],
   "source": [
    "def convert_predictions(df, threshold = 0.5, option = None, fraction = 0.33):\n",
    "    ''' Takes in a dataframe, regroups by videos (collecting all predictions\n",
    "    for a video in one nested list) then (optionally modifies by one of the three\n",
    "    methods) returning a mean prediction for each video. Lastly, an accuracy\n",
    "    column is filled by comparing a true label with the predicted one (a mean\n",
    "    probability is convered into a label subject to threshold value).\n",
    "    \n",
    "    Inputs:\n",
    "    1. df -- dataframe\n",
    "    2. threshold -- cutoff probability value between classes (by default 0.5)\n",
    "    3. option -- (by default None) choices are 'transform', 'confident strategy'\n",
    "    or 'fraction'; correspond to possible list manipulations\n",
    "    \n",
    "    Note: if you feed option = 'fraction', then you need to also specify fraction\n",
    "    value (1.0 means a simple mean, 0.33 means taking top third, et cetera)\n",
    "    \n",
    "    if option is not speficied or not among choices then a simple mean is calculated\n",
    "    4. fraction (= 0.33) -- value for 'fraction' option '''\n",
    "\n",
    "    # regroup based on method, video title, and test/train category\n",
    "    df = df.groupby(['method', 'video','test/train', 'true label', 'predicted label'])\\\n",
    "                    ['probability'].apply(list).reset_index()\n",
    "    \n",
    "    collected_labels_pred = list(df['probability']) # get the nested list\n",
    "    \n",
    "    # next, we apply one of the three methods to get means\n",
    "    \n",
    "    if option == 'transform':\n",
    "        mean_labels_pred = [get_mean_of_transformed_predictions(el) for el in collected_labels_pred]\n",
    "        \n",
    "    elif option == 'confident strategy':\n",
    "        mean_labels_pred = [get_mean_with_confident_strategy(el) for el in collected_labels_pred]\n",
    "    \n",
    "    elif option == 'fraction':\n",
    "        mean_labels_pred = [get_mean_of_a_fraction(el, fraction) for el in collected_labels_pred]\n",
    "        \n",
    "    else: # if no option is chosen (or not from the list), output a simple mean per video\n",
    "        mean_labels_pred = [np.mean(el) for el in collected_labels_pred]\n",
    "\n",
    "    labels_pred = [0 if el <= threshold else 1 for el in mean_labels_pred]\n",
    "    df['predicted label'] = labels_pred\n",
    "\n",
    "    # produce accuraacy values for each video (0 if classification is wrong and\n",
    "    # 1 if classicification is correct)\n",
    "    df['acc'] = [1 if df['true label'][i] == df['predicted label'][i]\n",
    "                            else 0 for i in range(len(df['true label']))]\n",
    "\n",
    "    return df"
   ]
  },
  {
   "cell_type": "code",
   "execution_count": 13,
   "metadata": {},
   "outputs": [
    {
     "data": {
      "text/html": [
       "<div>\n",
       "<style scoped>\n",
       "    .dataframe tbody tr th:only-of-type {\n",
       "        vertical-align: middle;\n",
       "    }\n",
       "\n",
       "    .dataframe tbody tr th {\n",
       "        vertical-align: top;\n",
       "    }\n",
       "\n",
       "    .dataframe thead th {\n",
       "        text-align: right;\n",
       "    }\n",
       "</style>\n",
       "<table border=\"1\" class=\"dataframe\">\n",
       "  <thead>\n",
       "    <tr style=\"text-align: right;\">\n",
       "      <th></th>\n",
       "      <th>method</th>\n",
       "      <th>video</th>\n",
       "      <th>test/train</th>\n",
       "      <th>true label</th>\n",
       "      <th>predicted label</th>\n",
       "      <th>probability</th>\n",
       "      <th>acc</th>\n",
       "    </tr>\n",
       "  </thead>\n",
       "  <tbody>\n",
       "    <tr>\n",
       "      <th>0</th>\n",
       "      <td>Deepfakes</td>\n",
       "      <td>000</td>\n",
       "      <td>test</td>\n",
       "      <td>1</td>\n",
       "      <td>1</td>\n",
       "      <td>[0.9999918937683105, 0.9999994039535522, 0.999...</td>\n",
       "      <td>1</td>\n",
       "    </tr>\n",
       "    <tr>\n",
       "      <th>1</th>\n",
       "      <td>Deepfakes</td>\n",
       "      <td>003</td>\n",
       "      <td>test</td>\n",
       "      <td>1</td>\n",
       "      <td>1</td>\n",
       "      <td>[0.4041133224964142, 0.9942851662635803, 0.943...</td>\n",
       "      <td>1</td>\n",
       "    </tr>\n",
       "    <tr>\n",
       "      <th>2</th>\n",
       "      <td>Deepfakes</td>\n",
       "      <td>012</td>\n",
       "      <td>test</td>\n",
       "      <td>1</td>\n",
       "      <td>1</td>\n",
       "      <td>[0.9833459854125977, 0.9993589520454407, 0.999...</td>\n",
       "      <td>1</td>\n",
       "    </tr>\n",
       "  </tbody>\n",
       "</table>\n",
       "</div>"
      ],
      "text/plain": [
       "      method video test/train  true label  predicted label  \\\n",
       "0  Deepfakes   000       test           1                1   \n",
       "1  Deepfakes   003       test           1                1   \n",
       "2  Deepfakes   012       test           1                1   \n",
       "\n",
       "                                         probability  acc  \n",
       "0  [0.9999918937683105, 0.9999994039535522, 0.999...    1  \n",
       "1  [0.4041133224964142, 0.9942851662635803, 0.943...    1  \n",
       "2  [0.9833459854125977, 0.9993589520454407, 0.999...    1  "
      ]
     },
     "metadata": {},
     "output_type": "display_data"
    }
   ],
   "source": [
    "new = convert_predictions(data)\n",
    "display(new[0:3])"
   ]
  },
  {
   "cell_type": "code",
   "execution_count": 31,
   "metadata": {},
   "outputs": [],
   "source": [
    "def show_accuracy(df):\n",
    "    acc_per_method = df.groupby(['test/train', 'method'])['acc'].mean()\n",
    "    acc_total = df.groupby(['test/train'])['acc'].mean()\n",
    "    display(acc_per_method)\n",
    "    display(acc_total)\n",
    "    return acc_per_method, acc_total"
   ]
  },
  {
   "cell_type": "code",
   "execution_count": 17,
   "metadata": {},
   "outputs": [
    {
     "data": {
      "text/plain": [
       "test/train  method        \n",
       "test        Deepfakes         0.914286\n",
       "            Face2Face         0.914286\n",
       "            FaceSwap          0.850000\n",
       "            NeuralTextures    0.792857\n",
       "            Original          0.607143\n",
       "Name: acc, dtype: float64"
      ]
     },
     "metadata": {},
     "output_type": "display_data"
    },
    {
     "name": "stdout",
     "output_type": "stream",
     "text": [
      "\n",
      "\n"
     ]
    },
    {
     "data": {
      "text/plain": [
       "test/train\n",
       "test    0.815714\n",
       "Name: acc, dtype: float64"
      ]
     },
     "metadata": {},
     "output_type": "display_data"
    },
    {
     "name": "stdout",
     "output_type": "stream",
     "text": [
      "\n",
      "\n"
     ]
    }
   ],
   "source": [
    "acc_per_method, acc_total = show_accuracy(new)"
   ]
  },
  {
   "cell_type": "markdown",
   "metadata": {},
   "source": [
    "# Accuracies"
   ]
  },
  {
   "cell_type": "code",
   "execution_count": 40,
   "metadata": {},
   "outputs": [
    {
     "name": "stdout",
     "output_type": "stream",
     "text": [
      "#############################################################\n",
      "vgg\n",
      "Found 23054 images belonging to 2 classes.\n",
      "23054/23054 [==============================] - 246s 11ms/step\n",
      "\n",
      "\n",
      "######################################\n",
      "Option: transform\n"
     ]
    },
    {
     "data": {
      "text/plain": [
       "test/train  method        \n",
       "test        Deepfakes         0.914286\n",
       "            Face2Face         0.914286\n",
       "            FaceSwap          0.857143\n",
       "            NeuralTextures    0.785714\n",
       "            Original          0.600000\n",
       "Name: acc, dtype: float64"
      ]
     },
     "metadata": {},
     "output_type": "display_data"
    },
    {
     "data": {
      "text/plain": [
       "test/train\n",
       "test    0.814286\n",
       "Name: acc, dtype: float64"
      ]
     },
     "metadata": {},
     "output_type": "display_data"
    },
    {
     "name": "stdout",
     "output_type": "stream",
     "text": [
      "######################################\n",
      "\n",
      "\n",
      "######################################\n",
      "Option: confident strategy\n"
     ]
    },
    {
     "data": {
      "text/plain": [
       "test/train  method        \n",
       "test        Deepfakes         0.914286\n",
       "            Face2Face         0.914286\n",
       "            FaceSwap          0.850000\n",
       "            NeuralTextures    0.792857\n",
       "            Original          0.607143\n",
       "Name: acc, dtype: float64"
      ]
     },
     "metadata": {},
     "output_type": "display_data"
    },
    {
     "data": {
      "text/plain": [
       "test/train\n",
       "test    0.815714\n",
       "Name: acc, dtype: float64"
      ]
     },
     "metadata": {},
     "output_type": "display_data"
    },
    {
     "name": "stdout",
     "output_type": "stream",
     "text": [
      "######################################\n",
      "\n",
      "\n",
      "######################################\n",
      "Option: fraction\n"
     ]
    },
    {
     "data": {
      "text/plain": [
       "test/train  method        \n",
       "test        Deepfakes         0.985714\n",
       "            Face2Face         0.950000\n",
       "            FaceSwap          0.950000\n",
       "            NeuralTextures    0.892857\n",
       "            Original          0.364286\n",
       "Name: acc, dtype: float64"
      ]
     },
     "metadata": {},
     "output_type": "display_data"
    },
    {
     "data": {
      "text/plain": [
       "test/train\n",
       "test    0.828571\n",
       "Name: acc, dtype: float64"
      ]
     },
     "metadata": {},
     "output_type": "display_data"
    },
    {
     "name": "stdout",
     "output_type": "stream",
     "text": [
      "######################################\n",
      "\n",
      "\n",
      "######################################\n",
      "Option: None\n"
     ]
    },
    {
     "data": {
      "text/plain": [
       "test/train  method        \n",
       "test        Deepfakes         0.914286\n",
       "            Face2Face         0.914286\n",
       "            FaceSwap          0.850000\n",
       "            NeuralTextures    0.792857\n",
       "            Original          0.607143\n",
       "Name: acc, dtype: float64"
      ]
     },
     "metadata": {},
     "output_type": "display_data"
    },
    {
     "data": {
      "text/plain": [
       "test/train\n",
       "test    0.815714\n",
       "Name: acc, dtype: float64"
      ]
     },
     "metadata": {},
     "output_type": "display_data"
    },
    {
     "name": "stdout",
     "output_type": "stream",
     "text": [
      "######################################\n",
      "#############################################################\n",
      "\n",
      "\n",
      "#############################################################\n",
      "xception\n",
      "Found 23054 images belonging to 2 classes.\n",
      "23054/23054 [==============================] - 236s 10ms/step\n",
      "\n",
      "\n",
      "######################################\n",
      "Option: transform\n"
     ]
    },
    {
     "data": {
      "text/plain": [
       "test/train  method        \n",
       "test        Deepfakes         0.921429\n",
       "            Face2Face         0.928571\n",
       "            FaceSwap          0.878571\n",
       "            NeuralTextures    0.850000\n",
       "            Original          0.692857\n",
       "Name: acc, dtype: float64"
      ]
     },
     "metadata": {},
     "output_type": "display_data"
    },
    {
     "data": {
      "text/plain": [
       "test/train\n",
       "test    0.854286\n",
       "Name: acc, dtype: float64"
      ]
     },
     "metadata": {},
     "output_type": "display_data"
    },
    {
     "name": "stdout",
     "output_type": "stream",
     "text": [
      "######################################\n",
      "\n",
      "\n",
      "######################################\n",
      "Option: confident strategy\n"
     ]
    },
    {
     "data": {
      "text/plain": [
       "test/train  method        \n",
       "test        Deepfakes         0.921429\n",
       "            Face2Face         0.928571\n",
       "            FaceSwap          0.864286\n",
       "            NeuralTextures    0.835714\n",
       "            Original          0.707143\n",
       "Name: acc, dtype: float64"
      ]
     },
     "metadata": {},
     "output_type": "display_data"
    },
    {
     "data": {
      "text/plain": [
       "test/train\n",
       "test    0.851429\n",
       "Name: acc, dtype: float64"
      ]
     },
     "metadata": {},
     "output_type": "display_data"
    },
    {
     "name": "stdout",
     "output_type": "stream",
     "text": [
      "######################################\n",
      "\n",
      "\n",
      "######################################\n",
      "Option: fraction\n"
     ]
    },
    {
     "data": {
      "text/plain": [
       "test/train  method        \n",
       "test        Deepfakes         0.978571\n",
       "            Face2Face         0.992857\n",
       "            FaceSwap          0.957143\n",
       "            NeuralTextures    0.935714\n",
       "            Original          0.328571\n",
       "Name: acc, dtype: float64"
      ]
     },
     "metadata": {},
     "output_type": "display_data"
    },
    {
     "data": {
      "text/plain": [
       "test/train\n",
       "test    0.838571\n",
       "Name: acc, dtype: float64"
      ]
     },
     "metadata": {},
     "output_type": "display_data"
    },
    {
     "name": "stdout",
     "output_type": "stream",
     "text": [
      "######################################\n",
      "\n",
      "\n",
      "######################################\n",
      "Option: None\n"
     ]
    },
    {
     "data": {
      "text/plain": [
       "test/train  method        \n",
       "test        Deepfakes         0.921429\n",
       "            Face2Face         0.928571\n",
       "            FaceSwap          0.864286\n",
       "            NeuralTextures    0.835714\n",
       "            Original          0.707143\n",
       "Name: acc, dtype: float64"
      ]
     },
     "metadata": {},
     "output_type": "display_data"
    },
    {
     "data": {
      "text/plain": [
       "test/train\n",
       "test    0.851429\n",
       "Name: acc, dtype: float64"
      ]
     },
     "metadata": {},
     "output_type": "display_data"
    },
    {
     "name": "stdout",
     "output_type": "stream",
     "text": [
      "######################################\n",
      "#############################################################\n",
      "\n",
      "\n",
      "#############################################################\n",
      "resnet50\n",
      "Found 23054 images belonging to 2 classes.\n",
      "23054/23054 [==============================] - 249s 11ms/step\n",
      "\n",
      "\n",
      "######################################\n",
      "Option: transform\n"
     ]
    },
    {
     "data": {
      "text/plain": [
       "test/train  method        \n",
       "test        Deepfakes         0.828571\n",
       "            Face2Face         0.778571\n",
       "            FaceSwap          0.757143\n",
       "            NeuralTextures    0.692857\n",
       "            Original          0.478571\n",
       "Name: acc, dtype: float64"
      ]
     },
     "metadata": {},
     "output_type": "display_data"
    },
    {
     "data": {
      "text/plain": [
       "test/train\n",
       "test    0.707143\n",
       "Name: acc, dtype: float64"
      ]
     },
     "metadata": {},
     "output_type": "display_data"
    },
    {
     "name": "stdout",
     "output_type": "stream",
     "text": [
      "######################################\n",
      "\n",
      "\n",
      "######################################\n",
      "Option: confident strategy\n"
     ]
    },
    {
     "data": {
      "text/plain": [
       "test/train  method        \n",
       "test        Deepfakes         0.814286\n",
       "            Face2Face         0.771429\n",
       "            FaceSwap          0.714286\n",
       "            NeuralTextures    0.678571\n",
       "            Original          0.500000\n",
       "Name: acc, dtype: float64"
      ]
     },
     "metadata": {},
     "output_type": "display_data"
    },
    {
     "data": {
      "text/plain": [
       "test/train\n",
       "test    0.695714\n",
       "Name: acc, dtype: float64"
      ]
     },
     "metadata": {},
     "output_type": "display_data"
    },
    {
     "name": "stdout",
     "output_type": "stream",
     "text": [
      "######################################\n",
      "\n",
      "\n",
      "######################################\n",
      "Option: fraction\n"
     ]
    },
    {
     "data": {
      "text/plain": [
       "test/train  method        \n",
       "test        Deepfakes         0.921429\n",
       "            Face2Face         0.892857\n",
       "            FaceSwap          0.928571\n",
       "            NeuralTextures    0.807143\n",
       "            Original          0.228571\n",
       "Name: acc, dtype: float64"
      ]
     },
     "metadata": {},
     "output_type": "display_data"
    },
    {
     "data": {
      "text/plain": [
       "test/train\n",
       "test    0.755714\n",
       "Name: acc, dtype: float64"
      ]
     },
     "metadata": {},
     "output_type": "display_data"
    },
    {
     "name": "stdout",
     "output_type": "stream",
     "text": [
      "######################################\n",
      "\n",
      "\n",
      "######################################\n",
      "Option: None\n"
     ]
    },
    {
     "data": {
      "text/plain": [
       "test/train  method        \n",
       "test        Deepfakes         0.814286\n",
       "            Face2Face         0.771429\n",
       "            FaceSwap          0.714286\n",
       "            NeuralTextures    0.678571\n",
       "            Original          0.500000\n",
       "Name: acc, dtype: float64"
      ]
     },
     "metadata": {},
     "output_type": "display_data"
    },
    {
     "data": {
      "text/plain": [
       "test/train\n",
       "test    0.695714\n",
       "Name: acc, dtype: float64"
      ]
     },
     "metadata": {},
     "output_type": "display_data"
    },
    {
     "name": "stdout",
     "output_type": "stream",
     "text": [
      "######################################\n",
      "#############################################################\n",
      "\n",
      "\n",
      "#############################################################\n",
      "mobilenet\n",
      "Found 23054 images belonging to 2 classes.\n",
      "23054/23054 [==============================] - 147s 6ms/step\n",
      "\n",
      "\n",
      "######################################\n",
      "Option: transform\n"
     ]
    },
    {
     "data": {
      "text/plain": [
       "test/train  method        \n",
       "test        Deepfakes         0.928571\n",
       "            Face2Face         0.964286\n",
       "            FaceSwap          0.907143\n",
       "            NeuralTextures    0.835714\n",
       "            Original          0.621429\n",
       "Name: acc, dtype: float64"
      ]
     },
     "metadata": {},
     "output_type": "display_data"
    },
    {
     "data": {
      "text/plain": [
       "test/train\n",
       "test    0.851429\n",
       "Name: acc, dtype: float64"
      ]
     },
     "metadata": {},
     "output_type": "display_data"
    },
    {
     "name": "stdout",
     "output_type": "stream",
     "text": [
      "######################################\n",
      "\n",
      "\n",
      "######################################\n",
      "Option: confident strategy\n"
     ]
    },
    {
     "data": {
      "text/plain": [
       "test/train  method        \n",
       "test        Deepfakes         0.928571\n",
       "            Face2Face         0.964286\n",
       "            FaceSwap          0.907143\n",
       "            NeuralTextures    0.835714\n",
       "            Original          0.614286\n",
       "Name: acc, dtype: float64"
      ]
     },
     "metadata": {},
     "output_type": "display_data"
    },
    {
     "data": {
      "text/plain": [
       "test/train\n",
       "test    0.85\n",
       "Name: acc, dtype: float64"
      ]
     },
     "metadata": {},
     "output_type": "display_data"
    },
    {
     "name": "stdout",
     "output_type": "stream",
     "text": [
      "######################################\n",
      "\n",
      "\n",
      "######################################\n",
      "Option: fraction\n"
     ]
    },
    {
     "data": {
      "text/plain": [
       "test/train  method        \n",
       "test        Deepfakes         0.978571\n",
       "            Face2Face         0.992857\n",
       "            FaceSwap          0.964286\n",
       "            NeuralTextures    0.964286\n",
       "            Original          0.300000\n",
       "Name: acc, dtype: float64"
      ]
     },
     "metadata": {},
     "output_type": "display_data"
    },
    {
     "data": {
      "text/plain": [
       "test/train\n",
       "test    0.84\n",
       "Name: acc, dtype: float64"
      ]
     },
     "metadata": {},
     "output_type": "display_data"
    },
    {
     "name": "stdout",
     "output_type": "stream",
     "text": [
      "######################################\n",
      "\n",
      "\n",
      "######################################\n",
      "Option: None\n"
     ]
    },
    {
     "data": {
      "text/plain": [
       "test/train  method        \n",
       "test        Deepfakes         0.928571\n",
       "            Face2Face         0.964286\n",
       "            FaceSwap          0.907143\n",
       "            NeuralTextures    0.835714\n",
       "            Original          0.614286\n",
       "Name: acc, dtype: float64"
      ]
     },
     "metadata": {},
     "output_type": "display_data"
    },
    {
     "data": {
      "text/plain": [
       "test/train\n",
       "test    0.85\n",
       "Name: acc, dtype: float64"
      ]
     },
     "metadata": {},
     "output_type": "display_data"
    },
    {
     "name": "stdout",
     "output_type": "stream",
     "text": [
      "######################################\n",
      "#############################################################\n",
      "\n",
      "\n"
     ]
    }
   ],
   "source": [
    "for architecture in ['vgg', 'xception', 'resnet50', 'mobilenet']:\n",
    "    print('#'*61)\n",
    "    print(architecture)\n",
    "    loaded_model = get_model(architecture)\n",
    "    filenames, multidim_predictions = get_multidim_predictions(loaded_model)\n",
    "    predictions = get_image_predictions(multidim_predictions, soft=True)\n",
    "    data = build_dataframe(filenames)\n",
    "    print('\\n')\n",
    "    for option in ['transform', 'confident strategy', 'fraction', 'None']:\n",
    "        print('#'*38)\n",
    "        print(\"Option:\", option)\n",
    "        new = convert_predictions(data, option = option)\n",
    "        acc_per_method, acc_total = show_accuracy(new)\n",
    "        print('#'*38)\n",
    "        if option != 'None': print('\\n')\n",
    "    print('#'*61)\n",
    "    print('\\n')"
   ]
  }
 ],
 "metadata": {
  "colab": {
   "collapsed_sections": [],
   "name": "prediction_analysis.ipynb",
   "provenance": [],
   "toc_visible": true
  },
  "environment": {
   "name": "tf2-gpu.2-1.m50",
   "type": "gcloud",
   "uri": "gcr.io/deeplearning-platform-release/tf2-gpu.2-1:m50"
  },
  "kernelspec": {
   "display_name": "Python 3",
   "language": "python",
   "name": "python3"
  },
  "language_info": {
   "codemirror_mode": {
    "name": "ipython",
    "version": 3
   },
   "file_extension": ".py",
   "mimetype": "text/x-python",
   "name": "python",
   "nbconvert_exporter": "python",
   "pygments_lexer": "ipython3",
   "version": "3.7.6"
  }
 },
 "nbformat": 4,
 "nbformat_minor": 4
}
