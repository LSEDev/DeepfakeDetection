{
 "cells": [
  {
   "cell_type": "code",
   "execution_count": 73,
   "metadata": {},
   "outputs": [],
   "source": [
    "import pickle\n",
    "import numpy as np\n",
    "import pandas as pd\n",
    "import os\n",
    "\n",
    "# # Prevents using the GPU (useful when GPU is being used for training)\n",
    "# os.environ[\"CUDA_VISIBLE_DEVICES\"] = \"-1\"\n",
    "\n",
    "import tensorflow as tf\n",
    "import tensorflow.keras\n",
    "from tensorflow.keras.models import load_model\n",
    "from tensorflow.keras.preprocessing.image import ImageDataGenerator\n",
    "\n",
    "af_dir = '../../all_faces_bucket/'\n",
    "disk_data_dir = '../../all_faces_disk/home/jupyter/forensics_split/'"
   ]
  },
  {
   "cell_type": "markdown",
   "metadata": {},
   "source": [
    "# Model Predictions"
   ]
  },
  {
   "cell_type": "code",
   "execution_count": null,
   "metadata": {},
   "outputs": [],
   "source": []
  },
  {
   "cell_type": "code",
   "execution_count": 74,
   "metadata": {},
   "outputs": [
    {
     "data": {
      "text/plain": [
       "{'loss': [0.8786628842353821],\n",
       " 'accuracy': [0.6821292638778687],\n",
       " 'val_loss': [0.5262079834938049],\n",
       " 'val_accuracy': [0.7273625731468201]}"
      ]
     },
     "execution_count": 74,
     "metadata": {},
     "output_type": "execute_result"
    }
   ],
   "source": [
    "architecture='vgg'\n",
    "history = pickle.load(open(af_dir + 'trained_models/training_accuracies/' + architecture, \"rb\"))\n",
    "history"
   ]
  },
  {
   "cell_type": "markdown",
   "metadata": {},
   "source": [
    "## Predict test data"
   ]
  },
  {
   "cell_type": "code",
   "execution_count": null,
   "metadata": {},
   "outputs": [],
   "source": [
    "# Need to load model to CPU if GPU is busy training\n",
    "# with tf.device('/cpu:0'):\n",
    "#     loaded_model = load_model(af_dir + 'trained_models/saved_models/' + architecture + '_model.h5')\n",
    "loaded_model = load_model(af_dir + 'trained_models/saved_models/' + architecture + '_model.h5')\n",
    "\n",
    "# Predict test data\n",
    "test_datagen = ImageDataGenerator(samplewise_std_normalization=True,\n",
    "                                  samplewise_center=True) # normalise and centre test data\n",
    "\n",
    "test_generator = test_datagen.flow_from_directory(\n",
    "        disk_data_dir + 'test',\n",
    "        target_size=(224, 224),\n",
    "#         color_mode=\"rgb\",\n",
    "        shuffle = False,\n",
    "#         class_mode='categorical',\n",
    "        batch_size=1)\n",
    "\n",
    "filenames = test_generator.filenames\n",
    "nb_samples = len(filenames)\n",
    "\n",
    "test_generator.reset()\n",
    "predict = loaded_model.predict(test_generator, steps = nb_samples, verbose=1, workers=8)"
   ]
  },
  {
   "cell_type": "code",
   "execution_count": null,
   "metadata": {},
   "outputs": [],
   "source": [
    "predict"
   ]
  },
  {
   "cell_type": "code",
   "execution_count": null,
   "metadata": {},
   "outputs": [],
   "source": []
  }
 ],
 "metadata": {
  "environment": {
   "name": "tf2-2-2-gpu.2-2.m49",
   "type": "gcloud",
   "uri": "gcr.io/deeplearning-platform-release/tf2-2-2-gpu.2-2:m49"
  },
  "kernelspec": {
   "display_name": "Python 3",
   "language": "python",
   "name": "python3"
  },
  "language_info": {
   "codemirror_mode": {
    "name": "ipython",
    "version": 3
   },
   "file_extension": ".py",
   "mimetype": "text/x-python",
   "name": "python",
   "nbconvert_exporter": "python",
   "pygments_lexer": "ipython3",
   "version": "3.7.6"
  }
 },
 "nbformat": 4,
 "nbformat_minor": 4
}
