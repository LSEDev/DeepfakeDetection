{
 "cells": [
  {
   "cell_type": "code",
   "execution_count": 0,
   "metadata": {
    "colab": {
     "base_uri": "https://localhost:8080/",
     "height": 258
    },
    "colab_type": "code",
    "id": "t7E1CjC9fqhq",
    "outputId": "11089435-9eac-4002-eb15-19f0990a8606"
   },
   "outputs": [
    {
     "name": "stdout",
     "output_type": "stream",
     "text": [
      "Collecting gputil\n",
      "  Downloading https://files.pythonhosted.org/packages/ed/0e/5c61eedde9f6c87713e89d794f01e378cfd9565847d4576fa627d758c554/GPUtil-1.4.0.tar.gz\n",
      "Building wheels for collected packages: gputil\n",
      "  Building wheel for gputil (setup.py) ... \u001b[?25l\u001b[?25hdone\n",
      "  Created wheel for gputil: filename=GPUtil-1.4.0-cp36-none-any.whl size=7413 sha256=10d16db2d3dc8573dfc9a4c6217420639cb75d1dcf713b0d69f8e25e1b10083f\n",
      "  Stored in directory: /root/.cache/pip/wheels/3d/77/07/80562de4bb0786e5ea186911a2c831fdd0018bda69beab71fd\n",
      "Successfully built gputil\n",
      "Installing collected packages: gputil\n",
      "Successfully installed gputil-1.4.0\n",
      "Requirement already satisfied: psutil in /usr/local/lib/python3.6/dist-packages (5.4.8)\n",
      "Requirement already satisfied: humanize in /usr/local/lib/python3.6/dist-packages (0.5.1)\n",
      "Gen RAM Free: 12.8 GB  | Proc size: 159.9 MB\n",
      "GPU RAM Free: 16280MB | Used: 0MB | Util   0% | Total 16280MB\n"
     ]
    }
   ],
   "source": [
    "# this cell has the latest set up for Google Colab notebook to check availible GPU RAM\n",
    "\n",
    "!ln -sf /opt/bin/nvidia-smi /usr/bin/nvidia-smi\n",
    "!pip install gputil\n",
    "!pip install psutil\n",
    "!pip install humanize\n",
    "import psutil\n",
    "import humanize\n",
    "import os\n",
    "import GPUtil as GPU\n",
    "GPUs = GPU.getGPUs()\n",
    "gpu = GPUs[0]\n",
    "def printm():\n",
    " process = psutil.Process(os.getpid())\n",
    " print(\"Gen RAM Free: \" + humanize.naturalsize( psutil.virtual_memory().available ), \" | Proc size: \" + humanize.naturalsize( process.memory_info().rss))\n",
    " print(\"GPU RAM Free: {0:.0f}MB | Used: {1:.0f}MB | Util {2:3.0f}% | Total {3:.0f}MB\".format(gpu.memoryFree, gpu.memoryUsed, gpu.memoryUtil*100, gpu.memoryTotal))\n",
    "printm()"
   ]
  },
  {
   "cell_type": "code",
   "execution_count": 0,
   "metadata": {
    "colab": {
     "base_uri": "https://localhost:8080/",
     "height": 173
    },
    "colab_type": "code",
    "id": "Llx-HRnYiWQU",
    "outputId": "844f0223-7442-4b9f-e891-a655aaf1a841"
   },
   "outputs": [
    {
     "name": "stderr",
     "output_type": "stream",
     "text": [
      "/usr/local/lib/python3.6/dist-packages/statsmodels/tools/_testing.py:19: FutureWarning: pandas.util.testing is deprecated. Use the functions in the public API at pandas.testing instead.\n",
      "  import pandas.util.testing as tm\n"
     ]
    },
    {
     "name": "stdout",
     "output_type": "stream",
     "text": [
      "Go to this URL in a browser: https://accounts.google.com/o/oauth2/auth?client_id=947318989803-6bn6qk8qdgf4n4g3pfee6491hc0brc4i.apps.googleusercontent.com&redirect_uri=urn%3aietf%3awg%3aoauth%3a2.0%3aoob&response_type=code&scope=email%20https%3a%2f%2fwww.googleapis.com%2fauth%2fdocs.test%20https%3a%2f%2fwww.googleapis.com%2fauth%2fdrive%20https%3a%2f%2fwww.googleapis.com%2fauth%2fdrive.photos.readonly%20https%3a%2f%2fwww.googleapis.com%2fauth%2fpeopleapi.readonly\n",
      "\n",
      "Enter your authorization code:\n",
      "··········\n",
      "Mounted at /content/drive\n",
      "Tensorflow version: 2.2.0\n"
     ]
    }
   ],
   "source": [
    "# this cell has the latest set up for Google Colab notebook (basic libaries including Keras were also used locally)\n",
    "import numpy as np\n",
    "import pandas as pd\n",
    "import matplotlib.pyplot as plt\n",
    "import seaborn as sns\n",
    "import random\n",
    "import tensorflow as tf\n",
    "\n",
    "import os\n",
    "import glob\n",
    "\n",
    "import cv2\n",
    "from google.colab import files\n",
    "from io import BytesIO\n",
    "from PIL import Image\n",
    "\n",
    "from numpy import expand_dims\n",
    "import tensorflow.keras\n",
    "from tensorflow.keras.preprocessing.image import load_img\n",
    "from tensorflow.keras.preprocessing.image import img_to_array\n",
    "from tensorflow.keras.preprocessing.image import array_to_img\n",
    "\n",
    "import warnings\n",
    "warnings.filterwarnings(\"ignore\")\n",
    "import logging\n",
    "logger = logging.getLogger()\n",
    "logger.setLevel(100)\n",
    "\n",
    "# for Google Colab\n",
    "from google.colab import drive\n",
    "drive.mount('/content/drive')\n",
    "\n",
    "print(\"Tensorflow version:\", tf.__version__)\n",
    "from __future__ import print_function\n",
    "from tensorflow.keras.preprocessing.image import ImageDataGenerator\n",
    "from tensorflow.keras.models import Sequential, load_model\n",
    "from tensorflow.keras.layers import Dense, Dropout, Activation, Flatten, GlobalAveragePooling2D\n",
    "from tensorflow.keras.layers import Conv2D, MaxPooling2D\n",
    "from tensorflow.keras.layers import BatchNormalization\n",
    "\n",
    "from tensorflow.keras.callbacks import *\n",
    "from IPython.display import clear_output\n",
    "\n",
    "from pydrive.auth import GoogleAuth\n",
    "from pydrive.drive import GoogleDrive\n",
    "from google.colab import auth\n",
    "from oauth2client.client import GoogleCredentials\n",
    "\n",
    "auth.authenticate_user()\n",
    "gauth = GoogleAuth()\n",
    "gauth.credentials = GoogleCredentials.get_application_default()\n",
    "drive = GoogleDrive(gauth)\n",
    "\n",
    "vis_tools = drive.CreateFile({'id':'1uvPTY1wQ4rsL8_lTffKEy1bhYzoWj9rs'})\n",
    "vis_tools.GetContentFile('VisualisationTools.py')\n",
    "import VisualisationTools as plotting\n",
    "plot_losses = plotting.PlotLearning()\n",
    "\n",
    "from sklearn.utils import class_weight"
   ]
  },
  {
   "cell_type": "code",
   "execution_count": 0,
   "metadata": {
    "colab": {},
    "colab_type": "code",
    "id": "R9W2qqEki-6_"
   },
   "outputs": [],
   "source": [
    "def get_data(methods, size):\n",
    "    path = 'drive/My Drive/images/'\n",
    "    result = {method : [] for method in methods}\n",
    "      \n",
    "    for method in methods:\n",
    "\n",
    "        print(\"Starting to load\", method, \"images\")\n",
    "        folders =  sorted(os.listdir(path + method))\n",
    "        result[method] = {folder:[] for folder in folders}\n",
    "\n",
    "        for folder in folders[0:size]:\n",
    "            if folder[2] == '0' and folder[1] == '0': print(folder)\n",
    "            images = []\n",
    "            full_path = path + method + \"/\" + folder\n",
    "            images_list = os.listdir(full_path)\n",
    "            images_list = [full_path + \"/\" + el for el in images_list]\n",
    "            \n",
    "            for el in images_list:\n",
    "                img = cv2.imread(el)[:,:,::-1]\n",
    "                img_resized=cv2.resize(img,(100,100))\n",
    "                images.append(img_resized)\n",
    "\n",
    "            result[method][folder] = np.array(images)\n",
    "\n",
    "        print(\"Loading\", method, \"images is complete\\n\")\n",
    "\n",
    "    return result"
   ]
  },
  {
   "cell_type": "code",
   "execution_count": 0,
   "metadata": {
    "colab": {},
    "colab_type": "code",
    "id": "thhi-HP1v74i"
   },
   "outputs": [],
   "source": [
    "def extract_images(images, fraction_test):\n",
    "    x = []\n",
    "    details = []\n",
    "\n",
    "    for method in images.keys():\n",
    "        if method == \"Original\": label = 0\n",
    "        else: label = 1\n",
    "\n",
    "        for folder in images[method].keys():\n",
    "            arr = images[method][folder]\n",
    "            x += list(arr)\n",
    "            details += list([[method, folder, label]]*len(arr))\n",
    "\n",
    "    distinct_videos = []\n",
    "    for el in details:\n",
    "      if not el in distinct_videos: distinct_videos.append(el)\n",
    "\n",
    "    num = len(distinct_videos)\n",
    "    test_videos = random.sample(distinct_videos, int(num*fraction_test))\n",
    "    details = [el + ['test'] if el in test_videos else el + ['train'] for el in details]\n",
    "    x = np.array(x); details = np.array(details)\n",
    "\n",
    "    index = range(x.shape[0])\n",
    "    data = pd.DataFrame(index = index, columns = ['method', 'video', 'test/train',\n",
    "                                                  'true label', 'predicted label'])\n",
    "    data.fillna(0)\n",
    "\n",
    "    data['method'] = [el[0] for el in details]\n",
    "    data['video'] = [el[1] for el in details]\n",
    "    data['true label'] = [el[2] for el in details]\n",
    "    data['test/train'] = [el[3] for el in details]\n",
    "\n",
    "    x = x.astype('float32')\n",
    "    x /= 255\n",
    "\n",
    "    print(\"Image array shape:\", x.shape)\n",
    "\n",
    "    return x, data\n",
    "\n",
    "def extract_labels(data):\n",
    "    labels = data['true label']; labels = np.array(labels)\n",
    "    labels = tf.keras.utils.to_categorical(labels, 2)\n",
    "    print(\"Labels shape:\", labels.shape)\n",
    "    return labels\n",
    "\n",
    "def shuffle(x, labels, data):\n",
    "    p = np.arange(x.shape[0])\n",
    "    np.random.shuffle(p)\n",
    "\n",
    "    return x[p], labels[p], data.reindex(p)"
   ]
  },
  {
   "cell_type": "code",
   "execution_count": 0,
   "metadata": {
    "colab": {},
    "colab_type": "code",
    "id": "D2jG8C5MOxlI"
   },
   "outputs": [],
   "source": [
    "def split(x, labels, data):\n",
    "\n",
    "    split = data['test/train']\n",
    "    train = [True if el == 'train' else False for el in split]\n",
    "    test = [False if el == 'train' else True for el in split]\n",
    "    x_train = x[train]\n",
    "    labels_train = labels[train]\n",
    "\n",
    "    x_test = x[test]\n",
    "    labels_test = labels[test]\n",
    "\n",
    "    print(\"Train image array shape:\", x_train.shape,\n",
    "          \"\\nTrain labels shape:\", labels_train.shape)\n",
    "\n",
    "    print(\"\\nTest image array shape:\", x_test.shape,\n",
    "          \"\\nTest labels shape:\", labels_test.shape)\n",
    "    \n",
    "    return x_train, labels_train, x_test, labels_test"
   ]
  },
  {
   "cell_type": "code",
   "execution_count": 0,
   "metadata": {
    "colab": {},
    "colab_type": "code",
    "id": "IJ7mWThq32JA"
   },
   "outputs": [],
   "source": [
    "def build_vgg(x, dropout):\n",
    "\n",
    "    from tensorflow.keras.applications.vgg16 import VGG16\n",
    "    from tensorflow.keras.preprocessing import image\n",
    "    from tensorflow.keras.applications.resnet50 import preprocess_input, decode_predictions\n",
    "\n",
    "    conv_base = VGG16(weights='imagenet', include_top=False,\n",
    "                        input_shape=x.shape[1:])\n",
    "    vgg = Sequential()\n",
    "    vgg.add(conv_base)\n",
    "    vgg.add(Flatten())\n",
    "    vgg.add(Dense(1000, activation='relu'))\n",
    "    vgg.add(Dropout(dropout))\n",
    "    vgg.add(Dense(2, activation='softmax'))\n",
    "\n",
    "    conv_base.trainable = False\n",
    "\n",
    "    opt = tf.keras.optimizers.Adam(learning_rate=0.0001, decay=1e-6)\n",
    "\n",
    "    vgg.compile(loss='categorical_crossentropy',\n",
    "                  optimizer=opt,\n",
    "                  metrics=['accuracy'])\n",
    "    return vgg"
   ]
  },
  {
   "cell_type": "code",
   "execution_count": 0,
   "metadata": {
    "colab": {},
    "colab_type": "code",
    "id": "Fu5HIJHu4RlS"
   },
   "outputs": [],
   "source": [
    "def augment_data(x_train, labels_train, epochs, batch):\n",
    "    # This will do preprocessing and realtime data augmentation:\n",
    "    datagen = ImageDataGenerator(\n",
    "            featurewise_center=False,  # set input mean to 0 over the dataset\n",
    "            samplewise_center=True,  # set each sample mean to 0\n",
    "            featurewise_std_normalization=False,  # divide inputs by std of the dataset\n",
    "            samplewise_std_normalization=True,  # divide each input by its std\n",
    "            zca_whitening=False,  # apply ZCA whitening\n",
    "            zca_epsilon=1e-06,  # epsilon for ZCA whitening\n",
    "            rotation_range=0,  # randomly rotate images in the range (degrees, 0 to 180)\n",
    "            # randomly shift images horizontally (fraction of total width)\n",
    "            width_shift_range=0.1,\n",
    "            # randomly shift images vertically (fraction of total height)\n",
    "            height_shift_range=0.1,\n",
    "            shear_range=0.,  # set range for random shear\n",
    "            zoom_range=0.,  # set range for random zoom\n",
    "            channel_shift_range=0.,  # set range for random channel shifts\n",
    "            # set mode for filling points outside the input boundaries\n",
    "            fill_mode='nearest',\n",
    "            cval=0.,  # value used for fill_mode = \"constant\"\n",
    "            horizontal_flip=True,  # randomly flip images\n",
    "            vertical_flip=False,  # randomly flip images\n",
    "            # set rescaling factor (applied before any other transformation)\n",
    "            rescale=None,\n",
    "            # set function that will be applied on each input\n",
    "            preprocessing_function=None,\n",
    "            # image data format, either \"channels_first\" or \"channels_last\"\n",
    "            data_format=None,\n",
    "            # fraction of images reserved for validation (strictly between 0 and 1)\n",
    "            validation_split=0.1)\n",
    "        \n",
    "    train_data = datagen.flow(x_train, labels_train,\n",
    "                              batch_size = batch, subset='training')\n",
    "    val_data = datagen.flow(x_train, labels_train,\n",
    "                            batch_size = batch, subset='validation')\n",
    "    \n",
    "    return train_data, val_data"
   ]
  },
  {
   "cell_type": "code",
   "execution_count": 0,
   "metadata": {
    "colab": {},
    "colab_type": "code",
    "id": "hAHcg54m9Uye"
   },
   "outputs": [],
   "source": [
    "def calculate_class_weights(labels_train):\n",
    "\n",
    "    # calculate class weights\n",
    "    class_weights = class_weight.compute_class_weight('balanced',\n",
    "        np.unique(np.argmax(labels_train, axis = 1)),\n",
    "        np.argmax(labels_train, axis = 1))\n",
    "\n",
    "    return {i:class_weights[i] for i in range(2)}"
   ]
  },
  {
   "cell_type": "code",
   "execution_count": 0,
   "metadata": {
    "colab": {},
    "colab_type": "code",
    "id": "yMHurucA4M0D"
   },
   "outputs": [],
   "source": [
    "def train_vgg(vgg, train_data, val_data, epochs, batch, x_train, class_weights):\n",
    "    # new path for weights\n",
    "    filepath=\"drive/My Drive/saved_weights/epochs:{epoch:03d}-val_acc:{val_accuracy:.3f}.hdf5\"\n",
    "    checkpoint = ModelCheckpoint(filepath, monitor='val_accuracy', \n",
    "                                verbose=1, save_best_only=True, mode='max')\n",
    "\n",
    "    vgg.fit(train_data, epochs=epochs, shuffle=True,\n",
    "              steps_per_epoch = int(len(x_train)*0.9 / batch),\n",
    "              validation_data = val_data, \n",
    "              validation_steps = int(len(x_train)*0.1 / batch),\n",
    "              class_weight=class_weights,\n",
    "              callbacks=[plot_losses, checkpoint],\n",
    "              verbose=1)\n",
    "    \n",
    "    return vgg"
   ]
  },
  {
   "cell_type": "code",
   "execution_count": 0,
   "metadata": {
    "colab": {},
    "colab_type": "code",
    "id": "DlmH06o7JTqE"
   },
   "outputs": [],
   "source": [
    "#vgg.load_weights(\"drive/My Drive/\\\n",
    "#saved_weights/epochs:015-val_acc:1.000.hdf5\")\n",
    "\n",
    "def get_image_predictions(vgg, x):\n",
    "\n",
    "    labels_pred = vgg.predict(x)\n",
    "    return np.argmax(labels_pred, axis=1)\n",
    "\n",
    "def convert_predictions(data, labels_pred):\n",
    "    data['predicted label'] = labels_pred\n",
    "    res = data.groupby(['method', 'video','test/train'])['predicted label'].mean().reset_index()\n",
    "    labels_pred = [0 if el <= 0.5 else 1 for el in res['predicted label']]\n",
    "    res['predicted label'] = labels_pred\n",
    "\n",
    "    true_labels = [0 if method == \"Original\" else 1 for method in list(res['method'])]\n",
    "    res['true label'] = true_labels\n",
    "\n",
    "    res['acc'] = [1 if res['true label'][i] == res['predicted label'][i]\n",
    "                            else 0 for i in range(len(res['true label']))]\n",
    "\n",
    "    return res"
   ]
  },
  {
   "cell_type": "code",
   "execution_count": 0,
   "metadata": {
    "colab": {
     "base_uri": "https://localhost:8080/",
     "height": 289
    },
    "colab_type": "code",
    "id": "cc4mNKCgN-Ea",
    "outputId": "64aef3cb-ceee-44bc-bf14-3c876c8474bd"
   },
   "outputs": [
    {
     "name": "stdout",
     "output_type": "stream",
     "text": [
      "Starting to load Original images\n",
      "000\n",
      "010\n",
      "020\n",
      "030\n",
      "040\n",
      "Loading Original images is complete\n",
      "\n",
      "Starting to load Deepfakes images\n",
      "000_003\n",
      "010_005\n",
      "020_344\n",
      "030_193\n",
      "040_997\n",
      "Loading Deepfakes images is complete\n",
      "\n"
     ]
    }
   ],
   "source": [
    "images = get_data(['Original', 'Deepfakes'], 50)"
   ]
  },
  {
   "cell_type": "code",
   "execution_count": 0,
   "metadata": {
    "colab": {
     "base_uri": "https://localhost:8080/",
     "height": 136
    },
    "colab_type": "code",
    "id": "7Pz_hau_OJcs",
    "outputId": "9fb47a9f-a6b9-4fc9-a1d2-d7f6aefa9459"
   },
   "outputs": [
    {
     "name": "stdout",
     "output_type": "stream",
     "text": [
      "Image array shape: (3136, 100, 100, 3)\n",
      "Labels shape: (3136, 2)\n",
      "Train image array shape: (2839, 100, 100, 3) \n",
      "Train labels shape: (2839, 2)\n",
      "\n",
      "Test image array shape: (297, 100, 100, 3) \n",
      "Test labels shape: (297, 2)\n"
     ]
    }
   ],
   "source": [
    "x, df = extract_images(images, 0.1)\n",
    "labels = extract_labels(df)\n",
    "x, labels, df = shuffle(x, labels, df)\n",
    "x_train, labels_train, x_test, labels_test = split(x, labels, df)"
   ]
  },
  {
   "cell_type": "code",
   "execution_count": 0,
   "metadata": {
    "colab": {
     "base_uri": "https://localhost:8080/",
     "height": 390
    },
    "colab_type": "code",
    "id": "NVi75gB_QX0c",
    "outputId": "7726c22a-ba43-40b6-ca4b-292fd659bcf9"
   },
   "outputs": [
    {
     "data": {
      "image/png": "[encoded data removed]",
      "text/plain": [
       "<Figure size 1080x360 with 2 Axes>"
      ]
     },
     "metadata": {
      "needs_background": "light",
      "tags": []
     },
     "output_type": "display_data"
    },
    {
     "name": "stdout",
     "output_type": "stream",
     "text": [
      "\n",
      "Epoch 00050: val_accuracy did not improve from 0.98828\n",
      "\b\b\b\b\b\b\b\b\b\b\b\b\b\b\b\b\b\b\b\b\b\b\b\b\b\b\b\b\b\b\b\b\b\b\b\b\b\b\b\b\b\b\b\b\b\b\b\b\b\b\b\b\b\b\b\b\b\b\b\b\b\b\b\b\b\b\b\b\b\b\b\b\b\b\b\b\b\b\b\b\b\b\r",
      "79/79 [==============================] - 8s 105ms/step - loss: 0.0309 - accuracy: 0.9917 - val_loss: 0.0804 - val_accuracy: 0.9648\n"
     ]
    }
   ],
   "source": [
    "vgg = build_vgg(x, 0.5)\n",
    "train_data, val_data = augment_data(x_train, labels_train, 50, 32)\n",
    "class_weights = calculate_class_weights(labels_train)\n",
    "trained_vgg = train_vgg(vgg, train_data, val_data, 50, 32)"
   ]
  },
  {
   "cell_type": "code",
   "execution_count": 0,
   "metadata": {
    "colab": {},
    "colab_type": "code",
    "id": "Doj-fpg5QjSX"
   },
   "outputs": [],
   "source": [
    "labels_pred = get_image_predictions(trained_vgg, x)\n",
    "new_df = convert_predictions(df, labels_pred)"
   ]
  },
  {
   "cell_type": "code",
   "execution_count": 0,
   "metadata": {
    "colab": {
     "base_uri": "https://localhost:8080/",
     "height": 221
    },
    "colab_type": "code",
    "id": "bMz4ScZgR6v8",
    "outputId": "be562535-d90a-4d54-c280-8e35c7c57abb"
   },
   "outputs": [
    {
     "data": {
      "text/plain": [
       "test/train  method   \n",
       "test        Deepfakes    0.666667\n",
       "            Original     0.000000\n",
       "train       Deepfakes    1.000000\n",
       "            Original     0.130435\n",
       "Name: acc, dtype: float64"
      ]
     },
     "metadata": {
      "tags": []
     },
     "output_type": "display_data"
    },
    {
     "name": "stdout",
     "output_type": "stream",
     "text": [
      "\n",
      "\n"
     ]
    },
    {
     "data": {
      "text/plain": [
       "test/train\n",
       "test     0.400000\n",
       "train    0.555556\n",
       "Name: acc, dtype: float64"
      ]
     },
     "metadata": {
      "tags": []
     },
     "output_type": "display_data"
    }
   ],
   "source": [
    "acc_per_method = new_df.groupby(['test/train', 'method'])['acc'].mean()\n",
    "acc_total = new_df.groupby(['test/train'])['acc'].mean()\n",
    "display(acc_per_method)\n",
    "print(\"\\n\")\n",
    "display(acc_total)"
   ]
  },
  {
   "cell_type": "code",
   "execution_count": 0,
   "metadata": {
    "colab": {},
    "colab_type": "code",
    "id": "sYFsNbZMqYTv"
   },
   "outputs": [],
   "source": [
    "def run_all(num):\n",
    "    images = get_data(['Original', 'Deepfakes'], num)\n",
    "    x, df = extract_images(images, 0.1)\n",
    "    labels = extract_labels(df)\n",
    "    x, labels, df = shuffle(x, labels, df)\n",
    "    x_train, labels_train, x_test, labels_test = split(x, labels, df)\n",
    "    vgg = build_vgg(x, 0.5)\n",
    "    train_data, val_data = augment_data(x_train, labels_train, 150, 32)\n",
    "    class_weights = calculate_class_weights(labels_train)\n",
    "    trained_vgg = train_vgg(vgg, train_data, val_data, 150, 32, x_train, class_weights)\n",
    "    labels_pred = get_image_predictions(trained_vgg, x)\n",
    "    new_df = convert_predictions(df, labels_pred)\n",
    "    acc_per_method = new_df.groupby(['test/train', 'method'])['acc'].mean()\n",
    "    acc_total = new_df.groupby(['test/train'])['acc'].mean()\n",
    "    display(acc_per_method)\n",
    "    print(\"\\n\")\n",
    "    display(acc_total)\n",
    "\n",
    "    return images, acc_per_method, acc_total"
   ]
  },
  {
   "cell_type": "code",
   "execution_count": 0,
   "metadata": {
    "colab": {
     "base_uri": "https://localhost:8080/",
     "height": 51
    },
    "colab_type": "code",
    "id": "tEO8aFCgq2me",
    "outputId": "e10f129d-6df1-49a2-9dac-89c774be7918"
   },
   "outputs": [
    {
     "name": "stdout",
     "output_type": "stream",
     "text": [
      "Starting to load Original images\n",
      "000\n"
     ]
    }
   ],
   "source": [
    "images, acc_per_method, acc_total = run_all(1000)"
   ]
  }
 ],
 "metadata": {
  "accelerator": "GPU",
  "colab": {
   "collapsed_sections": [],
   "name": "25_May.ipynb",
   "provenance": []
  },
  "environment": {
   "name": "tf2-2-2-gpu.2-2.m48",
   "type": "gcloud",
   "uri": "gcr.io/deeplearning-platform-release/tf2-2-2-gpu.2-2:m48"
  },
  "kernelspec": {
   "display_name": "Python 3",
   "name": "python3"
  }
 },
 "nbformat": 4,
 "nbformat_minor": 0
}
