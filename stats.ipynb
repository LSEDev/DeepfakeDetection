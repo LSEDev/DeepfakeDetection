{
 "cells": [
  {
   "cell_type": "code",
   "execution_count": 53,
   "metadata": {},
   "outputs": [
    {
     "name": "stdout",
     "output_type": "stream",
     "text": [
      "(34408, 34408, 34408, 27546, 27546)\n",
      "(34399, 34390, 34401, 27541, 27542)\n",
      "[0.9997384329225761, 0.9994768658451523, 0.9997965589397815, 0.9998184854425325, 0.999854788354026]\n"
     ]
    }
   ],
   "source": [
    "import cv2\n",
    "import os\n",
    "import numpy as np\n",
    "import glob\n",
    "\n",
    "original_methods = ['original_sequences/youtube/c0/images',\n",
    "                   'manipulated_sequences/Deepfakes/c0/images',\n",
    "                   'manipulated_sequences/Face2Face/c0/images',\n",
    "                   'manipulated_sequences/FaceSwap/c0/images',\n",
    "                   'manipulated_sequences/NeuralTextures/c0/images']\n",
    "\n",
    "def return_sums(methods):\n",
    "    original = []\n",
    "    deepfakes = []\n",
    "    face2face = []\n",
    "    faceswap = []\n",
    "    neuraltextures = []\n",
    "\n",
    "    for method in methods:\n",
    "        folders =  sorted(os.listdir(method))\n",
    "        folders = [folder for folder in folders if (folder.startswith('0') or folder.startswith('1') \\\n",
    "                  or folder.startswith('2') or folder.startswith('3') or folder.startswith('4') \\\n",
    "                  or folder.startswith('5') or folder.startswith('6') or folder.startswith('7') \\\n",
    "                  or folder.startswith('8') or folder.startswith('9'))]\n",
    "        for folder in folders:\n",
    "            images = glob.glob(method + \"/\" + folder + \"/*.png\")\n",
    "            if method == methods[0]: original.append(len(images))\n",
    "            elif method == methods[1]: deepfakes.append(len(images))\n",
    "            elif method == methods[2]: face2face.append(len(images))\n",
    "            elif method == methods[3]: faceswap.append(len(images))\n",
    "            elif method == methods[4]: neuraltextures.append(len(images))\n",
    "\n",
    "    return (sum(original), sum(deepfakes), sum(face2face), sum(faceswap), sum(neuraltextures))\n",
    "\n",
    "original_nums = return_sums(original_methods)\n",
    "print(original_nums)\n",
    "\n",
    "cropped_methods = ['original_sequences/youtube/c0/original_images',\n",
    "                   'manipulated_sequences/Deepfakes/c0/Deepfakes_images',\n",
    "                   'manipulated_sequences/Face2Face/c0/Face2Face_images',\n",
    "                   'manipulated_sequences/FaceSwap/c0/FaceSwap_images',\n",
    "                   'manipulated_sequences/NeuralTextures/c0/NeuralTextures_images']\n",
    "cropped_nums = return_sums(cropped_methods)\n",
    "print(cropped_nums)\n",
    "\n",
    "def percentages(a, b):\n",
    "    if len(a) == len(b) and len(a) >= 1:\n",
    "        return [a[i]/b[i] for i in range(len(a))]\n",
    "    return None\n",
    "\n",
    "print(percentages(cropped_nums, original_nums))"
   ]
  },
  {
   "cell_type": "code",
   "execution_count": 54,
   "metadata": {},
   "outputs": [],
   "source": [
    "def return_nums(methods):\n",
    "    original = []\n",
    "    deepfakes = []\n",
    "    face2face = []\n",
    "    faceswap = []\n",
    "    neuraltextures = []\n",
    "\n",
    "    for method in methods:\n",
    "        folders =  sorted(os.listdir(method))\n",
    "        folders = [folder for folder in folders if (folder.startswith('0') or folder.startswith('1') \\\n",
    "                  or folder.startswith('2') or folder.startswith('3') or folder.startswith('4') \\\n",
    "                  or folder.startswith('5') or folder.startswith('6') or folder.startswith('7') \\\n",
    "                  or folder.startswith('8') or folder.startswith('9'))]\n",
    "        for folder in folders:\n",
    "            images = glob.glob(method + \"/\" + folder + \"/*.png\")\n",
    "            if method == methods[0]: original.append(len(images))\n",
    "            elif method == methods[1]: deepfakes.append(len(images))\n",
    "            elif method == methods[2]: face2face.append(len(images))\n",
    "            elif method == methods[3]: faceswap.append(len(images))\n",
    "            elif method == methods[4]: neuraltextures.append(len(images))\n",
    "\n",
    "    return original, deepfakes, face2face, faceswap, neuraltextures\n",
    "\n",
    "original, deepfakes, face2face, faceswap, neuraltextures = return_nums(cropped_methods)"
   ]
  },
  {
   "cell_type": "code",
   "execution_count": 59,
   "metadata": {},
   "outputs": [
    {
     "name": "stdout",
     "output_type": "stream",
     "text": [
      "[34.399 34.39  34.401 27.541 27.542]\n",
      "[13.68976987 13.70846089 13.69292514  7.02355458  7.02454525]\n"
     ]
    }
   ],
   "source": [
    "arr = np.array([original, deepfakes, face2face, faceswap, neuraltextures])\n",
    "\n",
    "average = np.mean(arr, axis = 1)\n",
    "std = np.std(arr, axis = 1)\n",
    "print(average)\n",
    "print(std)"
   ]
  }
 ],
 "metadata": {
  "kernelspec": {
   "display_name": "Python 3",
   "language": "python",
   "name": "python3"
  },
  "language_info": {
   "codemirror_mode": {
    "name": "ipython",
    "version": 3
   },
   "file_extension": ".py",
   "mimetype": "text/x-python",
   "name": "python",
   "nbconvert_exporter": "python",
   "pygments_lexer": "ipython3",
   "version": "3.7.3"
  }
 },
 "nbformat": 4,
 "nbformat_minor": 2
}
